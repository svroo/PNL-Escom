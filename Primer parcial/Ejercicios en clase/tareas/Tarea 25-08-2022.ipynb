{
 "cells": [
  {
   "cell_type": "markdown",
   "metadata": {},
   "source": [
    "### Tarea \n",
    "\n",
    "Leer archivos html de la carpeta *EXCELSIOR_100_files* y realizar la limipeza del texto"
   ]
  },
  {
   "cell_type": "code",
   "execution_count": 1,
   "metadata": {},
   "outputs": [],
   "source": [
    "# Importamos librerias a ocupar \n",
    "import os\n",
    "import nltk\n",
    "from bs4 import BeautifulSoup"
   ]
  },
  {
   "cell_type": "code",
   "execution_count": 91,
   "metadata": {},
   "outputs": [],
   "source": [
    "# Obtenemos nombre de archivos\n",
    "contenido = os.listdir(\"C:\\\\Users\\\\hp\\\\Documents\\\\VSCode\\\\PNL-Escom\\\\Primer parcial\\\\EXCELSIOR_100_files\")\n",
    "\n",
    "# Leemos los archivos\n",
    "for archivo in contenido:\n",
    "    name = archivo.split(\".\")\n",
    "    name = name[0]\n",
    "    with open(f\"C:\\\\Users\\\\hp\\\\Documents\\\\VSCode\\\\PNL-Escom\\\\Primer parcial\\\\EXCELSIOR_100_files\\\\{archivo}\", encoding=\"UTF-8\") as file:\n",
    "        for i in file:\n",
    "            \n",
    "            text = file.read()\n",
    "            \n",
    "            soup = BeautifulSoup(text, 'lxml')\n",
    "            text = soup.get_text()\n",
    "            \n",
    "            wors = nltk.word_tokenize(text)\n",
    "            \n",
    "            with open(\"C:\\\\Users\\\\hp\\\\Documents\\\\VSCode\\\\PNL-Escom\\\\Primer parcial\\\\EXCELSIOR_100_Limpio\\\\{0}.txt\".format(name), encoding=\"UTF-8\", mode=\"w\") as f:\n",
    "                for word in wors:\n",
    "                    f.write(word + \" \")"
   ]
  }
 ],
 "metadata": {
  "kernelspec": {
   "display_name": "Python 3.10.5 64-bit",
   "language": "python",
   "name": "python3"
  },
  "language_info": {
   "codemirror_mode": {
    "name": "ipython",
    "version": 3
   },
   "file_extension": ".py",
   "mimetype": "text/x-python",
   "name": "python",
   "nbconvert_exporter": "python",
   "pygments_lexer": "ipython3",
   "version": "3.10.5"
  },
  "orig_nbformat": 4,
  "vscode": {
   "interpreter": {
    "hash": "63963b3f4c440940f0b94a3100916033a226cb4f45979123153792d60aa56d6a"
   }
  }
 },
 "nbformat": 4,
 "nbformat_minor": 2
}
