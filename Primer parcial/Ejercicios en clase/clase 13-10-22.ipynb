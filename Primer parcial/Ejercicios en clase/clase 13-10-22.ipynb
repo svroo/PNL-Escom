{
 "cells": [
  {
   "cell_type": "markdown",
   "metadata": {},
   "source": [
    "### Para el programa de palabras similares:\n",
    "\n",
    "Texto original: cadena leida del archivo, p. ej, 'e960401_mod.hml'\n",
    "Texto preprocesado mediante: \n",
    "- Eliminación de etiquetas xml\n",
    "- Pasar a minusculas\n",
    "- Tokenización: \n",
    "    - con *split()*\n",
    "    - con *nltk.word_tokenize()*\n",
    "- Eliminación de caracteres que no son letras\n",
    "- Eliminación de stopwords\n",
    "- Lematización\n",
    "\n",
    "text = texto preprocesado = lista de tokens normalizados = text $\\\\$\n",
    "vocabularios = sorted(list(set(text))) $\\\\$\n",
    "contextos = {}$\\\\$\n",
    "\n",
    "for v in vocabulario: $\\\\$\n",
    "    crear contexto a partir de text $\\\\$\n",
    "    contextos[v] = contexto$\\\\$\n",
    "\n",
    "vectorización de contextos -> vectores de números -> longitud = len(vocavulario)\n",
    "\n",
    "for v in vocabulario: $\\\\$\n",
    "contexto = contexts[v] $\\\\$\n",
    "vector = [] $\\\\$\n",
    "for v in vocabulary: $\\\\$\n",
    "vector.append(contexto.count(v))\n",
    "\n",
    "| vocabulario = [v1, v2, v3, $\\dotsc$, $v_n$] |\n",
    "-----------------------------------------------\n",
    "| contexto = [$v_2, v_3, v_2, v_4, \\dotsc $]  |\n",
    "| vector = [$0, 2, 1, 1, 0, 0, \\dotsc $] |\n",
    "\n",
    "word = 'empresa' $\\\\$\n",
    "vec = vectors[words] $\\\\$\n",
    "for v in vocabulary: $\\\\$\n",
    "Calcular producto punto de vec con cada uno de los vectores crear una lista con (palabras, valor del producto punto) ordenar la lista por valor del p.p de mayor a menor\n",
    "\n",
    "| - num 1 | - num 2 |\n",
    "----------|----------\n",
    "| - num 1 | - num 2 |\n",
    "| - num 1 | - num 2 |\n",
    "\n",
    "\n",
    "\n"
   ]
  }
 ],
 "metadata": {
  "kernelspec": {
   "display_name": "Python 3.10.5 64-bit",
   "language": "python",
   "name": "python3"
  },
  "language_info": {
   "name": "python",
   "version": "3.10.5"
  },
  "orig_nbformat": 4,
  "vscode": {
   "interpreter": {
    "hash": "63963b3f4c440940f0b94a3100916033a226cb4f45979123153792d60aa56d6a"
   }
  }
 },
 "nbformat": 4,
 "nbformat_minor": 2
}
