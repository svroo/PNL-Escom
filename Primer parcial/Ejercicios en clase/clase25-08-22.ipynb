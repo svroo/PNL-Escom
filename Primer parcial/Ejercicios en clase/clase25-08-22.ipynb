{
 "cells": [
  {
   "cell_type": "markdown",
   "metadata": {},
   "source": [
    "## Corpus \n",
    "\n",
    "Textos sacados de la web, se obtienen archivos para analisis."
   ]
  },
  {
   "cell_type": "code",
   "execution_count": 1,
   "metadata": {},
   "outputs": [],
   "source": [
    "from nltk.corpus import brown"
   ]
  },
  {
   "cell_type": "markdown",
   "metadata": {},
   "source": [
    "Primer ejercicio, cuantos archivos hay en brown corpus"
   ]
  },
  {
   "cell_type": "code",
   "execution_count": 4,
   "metadata": {},
   "outputs": [
    {
     "data": {
      "text/plain": [
       "500"
      ]
     },
     "execution_count": 4,
     "metadata": {},
     "output_type": "execute_result"
    }
   ],
   "source": [
    "len(brown.fileids())"
   ]
  },
  {
   "cell_type": "code",
   "execution_count": 5,
   "metadata": {},
   "outputs": [
    {
     "data": {
      "text/plain": [
       "15"
      ]
     },
     "execution_count": 5,
     "metadata": {},
     "output_type": "execute_result"
    }
   ],
   "source": [
    "# Cantidad de categorias que hay en brown\n",
    "len(brown.categories())"
   ]
  },
  {
   "cell_type": "code",
   "execution_count": 10,
   "metadata": {},
   "outputs": [
    {
     "data": {
      "text/plain": [
       "2332"
      ]
     },
     "execution_count": 10,
     "metadata": {},
     "output_type": "execute_result"
    }
   ],
   "source": [
    "# Cantidad de palabras en el archivo cr09\n",
    "len(brown.words(fileids=['cr09']))"
   ]
  },
  {
   "cell_type": "code",
   "execution_count": 13,
   "metadata": {},
   "outputs": [
    {
     "data": {
      "text/plain": [
       "\"\\n\\n\\tDear/jj Sirs/nns :/: Let/vb me/ppo begin/vb by/in clearing/vbg up/in any/dti possible/jj misconception/nn in/in your/pp$ minds/nns ,/, wherever/wrb you/ppss are/ber ./.\\nThe/at collective/nn by/in which/wdt I/ppss address/vb you/ppo in/in the/at title/nn above/rb is/bez neither/cc patronizing/vbg nor/cc jocose/jj but/cc an/at exact/jj industrial/jj term/nn in/in use/nn among/in professional/jj thieves/nns ./.\\nIt/pps is/bez ,/, I/ppss am/bem reliably/rb given/vbn to/to understand/vb ,/, the/at technical/jj argot/nn for/in those/dts who/wps engage/vb in/in your/pp$ particular/jj branch/nn of/in the/at boost/nn ;/. ;/.\\ni.e./rb ,/, burglars/nns who/wps rob/vb while/cs the/at tenants/nns are/ber absent/jj ,/, in/in contrast/nn to/in hot-slough/jj prowlers/nns ,/, those/dts who/wps work/vb while/cs the/at occupants/nns are/ber home/nr ./.\\nSince/cs the/at latter/ap obviously/rb require/vb an/at audacity/nn you/ppss do/do not/* possess/vb ,/, you/ppss may/md perhaps/rb suppose/vb that/cs I/ppss am/bem taunting/vbg you/ppo as/cs socially/rb inferior/jj ./.\\nFar/rb from/in it/ppo ;/. ;/.\\nI/ppss merely/rb draw/vb an/at etymological/jj distinction/nn ,/, hoping/vbg that/cs specialists/nns and/cc busy/jj people/nns like/cs you/ppss will/md welcome/vb such/jj precision/nn in/in a/at layman/nn ./.\\nAbove/in all/abn ,/, disabuse/vb yourselves/ppls of/in any/dti thought/nn that/cs I/ppss propose/vb to/to vent/vb moral/jj indignation/nn at/in your/pp$ rifling/nn my/pp$ residence/nn ,/, to/to whimper/vb over/in the/at loss/nn of/in a/at few/ap objets/fw-nns d'art/fw-in+nn ,/, or/cc to/to shame/vb you/ppo into/in rectitude/nn ./.\\nMy/pp$ object/nn ,/, rather/rb ,/, is/bez to/to alert/vb you/ppo to/in an/at aspect/nn or/cc two/cd of/in the/at affair/nn that/wps could/md have/hv the/at gravest/jjt implications/nns for/in you/ppo ,/, far/rb beyond/in the/at legal/jj sanctions/nns society/nn might/md inflict/vb ./.\\nYou/ppss have/hv unwittingly/rb set/vbn in/in motion/nn forces/nns so/ql malign/jj ,/, so/ql vindictive/jj ,/, that/cs it/pps would/md be/be downright/ql inhumane/jj of/in me/ppo not/* to/to warn/vb you/ppo about/in them/ppo ./.\\nQuite/ql candidly/rb ,/, fellows/nns ,/, I/ppss wouldn't/md* be/be in/in your/pp$ shoes/nns for/in all/abn the/at rice/nn in/in China/np ./.\\n\\n\\n\\tAs/cs you've/ppss+hv doubtless/rb forgotten/vbn the/at circumstances/nns in/in the/at press/nn of/in more/ql recent/jj depredations/nns ,/, permit/vb me/ppo to/to recapitulate/vb them/ppo briefly/rb ./.\\nSometime/rb on/in Saturday/nr evening/nn ,/, August/np 22nd/od ,/, while/cs my/pp$ family/nn and/cc I/ppss were/bed dining/vbg at/in the/at Hostaria/np dell'/fw-in+at-tl Orso/fw-nn-tl ,/, in/in Rome/np ,/, you/ppss jimmied/vbd a/at window/nn of/in our/pp$ home/nr in/in Bucks/np-tl County/nn-tl ,/, Pennsylvania/np ,/, and/cc let/vbd yourselves/ppls into/in the/at premises/nns ./.\\nHastening/vbg to/in the/at attic/nn ,/, the/at temperature/nn of/in which/wdt was/bedz easily/rb hotter/jjr than/cs the/at Gold/jj-tl Coast/nn-tl ,/, you/ppss proceeded/vbd to/to mask/vb the/at windows/nns with/in a/at fancy/jj wool/nn coverlet/nn ,/, some/dti khaki/jj pants/nns ,/, and/cc the/at like/jj ,/, and/cc to/to ransack/vb the/at innumerable/jj boxes/nns and/cc barrels/nns stored/vbn there/rb ./.\\nWhat/wdt you/ppss were/bed looking/vbg for/in (/( unless/cs you/ppss make/vb a/at hobby/nn of/in collecting/vbg old/jj tennis/nn rackets/nns and/cc fly/nn screens/nns )/) eludes/vbz me/ppo ,/, but/cc to/to judge/vb from/in phonograph/nn records/nns scattered/vbn about/in a/at fumed-oak/nn Victrola/np ./.\\nYou/ppss danced/vbd two/cd tangos/nns and/cc a/at paso/fw-nn doble/fw-jj ,/, which/wdt must/md have/hv been/ben fairly/ql enervating/vbg in/in that/dt milieu/nn ./.\\nYou/ppss then/rb descended/vbd one/cd story/nn ,/, glommed/vbd a/at television/nn set/nn from/in the/at music/nn room/nn --/-- the/at only/ap constructive/jj feature/nn of/in your/pp$ visit/nn ,/, by/in the/at way/nn --/-- and/cc ,/, returning/vbg to/in the/at ground/nn floor/nn ,/, entered/vbd the/at master/nn bedroom/nn ./.\\nFrom/in the/at curio/nn cabinet/nn on/in its/pp$ south/nr wall/nn and/cc the/at bureaus/nns beneath/rb ,/, you/ppss abstracted/vbd seventeen/cd ivory/nn ,/, metal/nn ,/, wood/nn ,/, and/cc stone/nn sculptures/nns of/in Oriental/jj and/cc African/jj origin/nn ,/, two/cd snuffboxes/nns ,/, and/cc a/at jade-handled/jj magnifying/vbg glass/nn ./.\\nRummaging/vbg through/in a/at stack/nn of/in drawers/nns nearby/rb ,/, you/ppss unearthed/vbd an/at antique/nn French/jj chess/nn set/nn in/in ivory/nn and/cc sandalwood/nn ,/, which/wdt ,/, along/in with/in two/cd box/nn Kodaks/nps ,/, you/ppss added/vbd to/in your/pp$ haul/nn ./.\\nThen/rb ,/, having/hvg wrapped/vbn the/at lot/nn in/in an/at afghan/nn my/pp$ dog/nn customarily/rb slept/vbd on/rp ,/, you/ppss lammed/vbd out/in the/at front/jj door/nn ,/, considerately/rb leaving/vbg it/ppo open/vb for/in neighbors/nns to/to discover/vb ./.\\n\\n\\n\\tSo/ql much/ap for/in the/at tiresome/jj facts/nns ,/, as/ql familiar/jj to/in you/ppo ,/, I'm/ppss+bem sure/jj ,/, as/in to/in the/at constables/nns and/cc state/nn troopers/nns who/wps followed/vbd in/in your/pp$ wake/nn ./.\\nThe/at foregoing/nn ,/, aided/vbn by/in several/ap clues/nns I'll/ppss+md withhold/vb to/to keep/vb you/ppo on/in your/pp$ toes/nns ,/, will/md pursue/vb you/ppo with/in a/at tenacity/nn worthy/jj of/in Inspector/nn-tl Javert/np ,/, but/cc before/cs they/ppss close/vb in/rp ,/, gird/vb yourselves/ppls ,/, I/ppss repeat/vb ,/, for/in a/at vengeance/nn infinitely/rb more/ql pitiless/jj ./.\\nFourteen/cd of/in the/at sculptures/nns you/ppss took/vbd possess/vb properties/nns of/in a/at most/ql curious/jj and/cc terrifying/vbg nature/nn ,/, as/cs you/ppss will/md observe/vb when/wrb your/pp$ limbs/nns begin/vb to/to wither/vb and/cc your/pp$ hair/nn falls/vbz out/rp in/in patches/nns ./.\\nIn/in time/nn ,/, these/dts minor/jj manifestations/nns will/md multiply/vb and/cc effloresce/vb ,/, riddling/vbg you/ppo with/in frambesia/nn ,/, the/at king's/nn$ evil/nn ,/, sheep/nn rot/nn ,/, and/cc clonic/jj spasm/nn ,/, until/cs your/pp$ very/ap existence/nn becomes/vbz a/at burden/nn and/cc you/ppss cry/vb out/rp for/in release/nn ./.\\nAll/ql this/dt ,/, though/rb ,/, is/bez simply/rb a/at prelude/nn ,/, a/at curtain-raiser/nn ,/, for/in what/wdt ensues/vbz ,/, and/cc I/ppss doubt/vb whether/cs any/dti Occidental/jj-tl could/md accurately/rb forecast/vb it/ppo ./.\\nIf/cs ,/, however/rb ,/, it/pps would/md help/vb to/to intensify/vb your/pp$ anguish/nn ,/, I/ppss can/md delimit/vb the/at powers/nns of/in a/at few/ap of/in the/at divinities/nns you've/ppss+hv affronted/vbn and/cc describe/vb the/at punishment/nn they/ppss meted/vbd out/rp in/in one/cd analogous/jj instance/nn ./.\\nHold/vb on/rp tight/rb ./.\\n\\n\\n\\tFirst/od of/in all/abn ,/, the/at six/cd figures/nns of/in the/at Buddha/np you/ppss heisted/vbd --/-- four/cd Siamese/jj heads/nns ,/, a/at black/jj obsidian/nn statuette/nn in/in the/at earth-touching/jj position/nn ,/, and/cc a/at large/jj brass/nn figure/nn of/in the/at Dying/vbg-tl Buddha/np-tl on/in a/at teakwood/nn base/nn ./.\\nNow/rb ,/, you/ppss probably/rb share/vb the/at widespread/jj Western/jj-tl belief/nn that/cs the/at Lord/nn-tl Buddha/np is/bez the/at most/ql compassionate/jj of/in the/at gods/nns ,/, much/ql more/ql so/rb than/cs Jehovah/np and/cc Allah/np and/cc the/at rest/nn ./.\\n'fess/vb up/rp --/-- don't/do* you/ppss ?/. ?/.\\nWell/uh ,/, ordinarily/rb he/pps is/bez ,/, except/in (/( as/cs the/at Wheel/nn-tl of/in-tl the/at-tl Law/nn-tl specifies/vbz )/) toward/in impious/jj folk/nn who/wps steal/vb ,/, disturb/vb ,/, or/cc maltreat/vb the/at Presence/nn-tl ./.\\nVery/ql peculiar/jj retribution/nn indeed/rb seems/vbz to/to overtake/vb such/jj jokers/nns ./.\\nEight/cd or/cc ten/cd years/nns ago/rb ,/, a/at couple/nn of/in French/jj hoods/nns stole/vbd a/at priceless/jj Khmer/np head/nn from/in the/at Musee/fw-nn-tl Guimet/np-tl ,/, in/in Paris/np ,/, and/cc a/at week/nn later/rbr crawled/vbd into/in the/at Salpetriere/np with/in unmistakable/jj symptoms/nns of/in leprosy/nn ./.\\nHell's/nn$ own/vb amount/vb of/in chaulmoogra/nn oil/nn did/dod nothing/pn to/to alleviate/vb their/pp$ torment/nn ;/. ;/.\\nthey/ppss expired/vbd amid/in indescribable/jj fantods/nns ,/, imploring/vbg the/at Blessed/vbn-tl One/cd-tl to/to forgive/vb their/pp$ desecration/nn ./.\\nAny/dti reputable/jj French/jj interne/nn can/md supply/vb you/ppo with/in a/at dozen/nn similar/jj instances/nns ,/, and/cc I'll/ppss+md presently/rb recount/vb a/at case/nn out/in of/in my/pp$ own/jj personal/jj experience/nn ,/, but/cc ,/, for/in the/at moment/nn ,/, let's/vb+ppo resume/vb our/pp$ catalogue/nn ./.\\n\\n\\n\\tWhether/cs the/at pair/nn of/in Sudanese/jj ivory/nn carvings/nns you/ppss lifted/vbd really/rb possess/vb the/at juju/nn to/to turn/vb your/pp$ livers/nns to/in lead/nn ,/, as/cs a/at dealer/nn in/in Khartoum/np assured/vbd me/ppo ,/, I/ppss am/bem not/* competent/jj to/to say/vb ./.\\nLikewise/rb the/at ivory/nn Chinese/jj female/nn figure/nn known/vbn as/cs a/at ``/`` doctor/nn lady/nn ''/'' (/( provenance/nn Honan/np )/) ;/. ;/.\\na/at friend/nn of/in mine/pp$$ removing/vbg her/ppo from/in the/at curio/nn cabinet/nn for/in inspection/nn was/bedz felled/vbn as/cs if/cs by/in a/at hammer/nn ,/, but/cc he/pps had/hvd previously/rb drunk/vbd a/at quantity/nn of/in applejack/nn ./.\\nThe/at three/cd Indian/jj brass/nn deities/nns ,/, though/rb --/-- Ganessa/np ,/, Siva/np ,/, and/cc Krishna/np --/-- are/ber an/at altogether/rb different/jj cup/nn of/in tea/nn ./.\\nThey/ppss hail/vb from/in Travancore/np ,/, a/at state/nn in/in the/at subcontinent/nn where/wrb Kali/np ,/, the/at goddess/nn of/in death/nn ,/, is/bez worshiped/vbn ./.\\nHave/hv you/ppss ever/rb heard/vbn of/in Thuggee/np ?/. ?/.\\nNuf/ap sed/vbn ./.\\nBut/cc it/pps is/bez the/at wooden/jj sculpture/nn from/in Bali/np ,/, the/at one/cd representing/vbg two/cd men/nns with/in their/pp$ heads/nns bent/vbn backward/rb and/cc their/pp$ bodies/nns interlaced/vbn by/in a/at fish/nn ,/, that/cs I/ppss particularly/rb call/vb to/in your/pp$ attention/nn ./.\\nOddly/rb enough/qlp ,/, this/dt is/bez an/at amulet/nn against/in housebreakers/nns ,/, presented/vbn to/in the/at mem/fw-nn and/cc me/ppo by/in a/at local/jj rajah/nn in/in 1949/cd ./.\\nInscribed/vbn around/in its/pp$ base/nn is/bez a/at charm/nn in/in Balinese/np ,/, a/at dialect/nn I/ppss take/vb it/ppo you/ppss don't/do* comprehend/vb ./.\\nNeither/cc do/do I/ppss ,/, but/cc the/at Tjokorda/np Agoeng/np was/bedz good/jj enough/qlp to/to translate/vb ,/, and/cc I'll/ppss+md do/do as/ql much/rb for/in you/ppo ./.\\nWhosoever/wps violates/vbz our/pp$ rooftree/nn ,/, the/at legend/nn states/vbz ,/, can/md expect/vb maximal/jj sorrow/nn ./.\\nThe/at teeth/nns will/md rain/vb from/in his/pp$ mouth/nn like/cs pebbles/nns ,/, his/pp$ wife/nn will/md make/vb him/ppo cocu/fw-nn with/in fishmongers/nns ,/, and/cc a/at trolley/nn car/nn will/md grow/vb in/in his/pp$ stomach/nn ./.\\nFurthermore/rb --/-- and/cc this/dt ,/, to/in me/ppo ,/, strikes/vbz an/at especially/rb warming/vbg note/nn --/-- it/pps shall/md avail/vb the/at vandals/nns naught/pn to/to throw/vb away/rb or/cc dispose/vb of/in their/pp$ loot/nn ./.\\nThe/at cycle/nn of/in disaster/nn starts/vbz the/at moment/nn they/ppss touch/vb any/dti belonging/nn of/in ours/pp$$ ,/, and/cc dogs/vbz them/ppo unto/in the/at forty-fifth/od generation/nn ./.\\nSort/nn of/in remorseless/jj ,/, isn't/bez* it/pps ?/. ?/.\\nStill/rb ,/, there/ex it/pps is/bez ./.\\n\\n\\n\\tNow/rb ,/, you/ppss no/at doubt/nn regard/vb the/at preceding/nn as/cs pap/nn ;/. ;/.\\nyou're/ppss+ber tooling/vbg around/rb full/jj of/in gage/nn in/in your/pp$ hot/jj rods/nns ,/, gorging/vbg yourselves/ppls on/in pizza/nn and/cc playing/vbg pinball/nn in/in the/at taverns/nns and/cc generally/rb behaving/vbg like/in Ubermenschen/fw-nns ./.\\nIn/in that/dt case/nn ,/, listen/vb to/in what/wdt befell/vbd another/dt wisenheimer/nn who/wps tangled/vbd with/in our/pp$ joss/nn ./.\\nA/at couple/nn of/in years/nns back/rb ,/, I/ppss occupied/vbd a/at Village/nn-tl apartment/nn whose/wp$ outer/jj staircase/nn contained/vbd the/at type/nn of/in niche/nn called/vbn a/at ``/`` coffin/nn turn/nn ''/'' ./.\\nIn/in it/pps was/bedz a/at stone/nn Tibetan/jj Buddha/np I/ppss had/hvd picked/vbn up/rp in/in Bombay/np ,/, and/cc occasionally/rb ,/, to/to make/vb merit/nn ,/, my/pp$ wife/nn and/cc I/ppss garlanded/vbd it/ppo with/in flowers/nns or/cc laid/vbd a/at few/ap pennies/nns in/in its/pp$ lap/nn ./.\\nAfter/in a/at while/nn ,/, we/ppss became/vbd aware/jj that/cs the/at money/nn was/bedz disappearing/vbg as/ql fast/jj as/cs we/ppss replenished/vbd it/ppo ./.\\nOur/pp$ suspicions/nns eventually/rb centered/vbd ,/, by/in the/at process/nn of/in elimination/nn ,/, on/in a/at grocer's/nn$ boy/nn ,/, a/at thoroughly/ql bad/jj hat/nn ,/, who/wps delivered/vbd cartons/nns to/in the/at people/nns overhead/rb ./.\\nThe/at more/rbr I/ppss probed/vbd into/in this/dt young/jj man's/nn$ activities/nns and/cc character/nn ,/, the/at less/ql savory/jj I/ppss found/vbd him/ppo ./.\\nI/ppss learned/vbd ,/, for/in example/nn ,/, that/cs he/pps made/vbd a/at practice/nn of/in yapping/vbg at/in dogs/nns he/pps encountered/vbd and/cc ,/, in/in winter/nn ,/, of/in sprinkling/vbg salt/nn on/in the/at icy/jj pavement/nn to/to scarify/vb their/pp$ feet/nns ./.\\nHis/pp$ energy/nn was/bedz prodigious/jj ;/. ;/.\\nsometimes/rb he/pps would/md be/be up/rp before/in dawn/nn ,/, clad/vbn as/cs a/at garbage/nn collector/nn and/cc hurling/vbg pails/nns into/in areaways/nns to/to exasperate/vb us/ppo ,/, and/cc thereafter/rb would/md hurry/vb to/in the/at Bronx/np-tl Zoo/nn-tl to/to grimace/vb at/in the/at lions/nns and/cc press/vb cigar/nn butts/nns against/in their/pp$ paws/nns ./.\\nEvenings/nns ,/, he/pps was/bedz frequently/rb to/to be/be seen/vbn at/in restaurants/nns like/cs Enrico/np-tl &/cc-tl Paglieri's/np$-tl or/cc-tl Peter's/np$-tl Backyard/nn-tl drunkenly/rb donning/vbg ladies'/nns$ hats/nns and/cc singing/vbg ``/`` O/fw-uh-tl Sole/fw-nn-tl Mio/fw-pp$-tl ''/'' ./.\\nIn/in short/rb ,/, and/cc to/to borrow/vb an/at arboreal/jj phrase/nn ,/, slash/vb timber/nn ./.\\nWell/uh ,/, the/at odious/jj little/ap toad/nn went/vbd along/rb chivying/vbg animals/nns and/cc humans/nns who/wps couldn't/md* retaliate/vb ,/, and/cc in/in due/jj course/nn ,/, as/cs was/bedz inevitable/jj ,/, overreached/vbd himself/ppl ./.\\nOne/cd morning/nn ,/, we/ppss discovered/vbd not/* only/rb that/cs the/at pennies/nns were/bed missing/vbg from/in the/at idol/nn but/cc that/cs a/at cigarette/nn had/hvd been/ben stubbed/vbn out/rp in/in its/pp$ lap/nn ./.\\n``/`` Now/rb he's/pps+hvz bought/vbn it/ppo ''/'' ,/, said/vbd my/pp$ wife/nn contentedly/rb ./.\\n``/`` No/at divinity/nn will/md hold/vb still/jj for/in that/dt ./.\\nHe's/pps+bez really/rb asking/vbg for/in it/ppo ''/'' ./.\\nAnd/cc how/wrb right/jj she/pps was/bedz ./.\\nThe/at next/ap time/nn we/ppss saw/vbd him/ppo ,/, he/pps was/bedz a/at changed/vbn person/nn ;/. ;/.\\nhe/pps had/hvd aged/vbn thirty/cd years/nns ,/, and/cc his/pp$ face/nn ,/, the/at color/nn of/in tallow/nn ,/, was/bedz crisscrossed/vbn with/in wrinkles/nns ,/, as/cs though/cs it/pps had/hvd been/ben wrapped/vbn in/in chicken/nn wire/nn ./.\\nSome/dti sort/nn of/in nemesis/nn was/bedz haunting/vbg his/pp$ footsteps/nns ,/, he/pps told/vbd us/ppo in/in a/at quavering/vbg voice/nn --/-- either/cc an/at ape/nn specter/nn or/cc Abe/np Spector/np ,/, a/at process-server/nn ,/, we/ppss couldn't/md* determine/vb which/wdt ./.\\nHis/pp$ eyes/nns had/hvd the/at same/ap dreadful/jj rigid/jj stare/nn as/cs Dr./nn-tl Grimesby/np Roylott's/np$ when/wrb he/pps was/bedz found/vbn before/in his/pp$ open/jj safe/nn wearing/vbg the/at speckled/vbn band/nn ./.\\nThe/at grocery/nn the/at youth/nn worked/vbd for/in soon/rb tired/vbd of/in his/pp$ depressing/jj effect/nn on/in customers/nns ,/, most/ap of/in whom/wpo were/bed sufficiently/rb neurotic/jj without/in the/at threat/nn of/in incubi/nns ,/, and/cc let/vbd him/ppo go/vb ./.\\nThe/at beautiful/jj ,/, the/at satisfying/vbg part/nn of/in his/pp$ disintegration/nn ,/, however/rb ,/, was/bedz the/at masterly/jj way/nn the/at Buddha/np polished/vbd him/ppo off/rp ./.\\nReduced/vbn to/in beggary/nn ,/, he/pps at/in last/rb got/vbd a/at job/nn as/cs office/nn boy/nn to/in a/at television/nn producer/nn ./.\\nHis/pp$ hubris/nn ,/, deficiency/nn of/in taste/nn ,/, and/cc sadism/nn carried/vbd him/ppo straightaway/rb to/in the/at top/nn ./.\\nHe/pps evolved/vbd programs/nns that/wps plumbed/vbd new/jj depths/nns of/in bathos/nn and/cc besmirched/vbd whole/jj networks/nns ,/, and/cc quickly/rb superseded/vbd his/pp$ boss/nn ./.\\nNot/* long/jj ago/rb ,/, I/ppss rode/vbd down/rp with/in him/ppo in/in an/at elevator/nn in/in Radio/nn-tl City/nn-tl ;/. ;/.\\nhe/pps was/bedz talking/vbg to/in himself/ppl thirteen/cd to/in the/at dozen/nn and/cc smoking/vbg two/cd cigars/nns at/in once/rb ,/, clearly/rb a/at man/nn in/in extremis/fw-nns ./.\\n``/`` See/vb that/dt guy/nn ''/'' ?/. ?/.\\nThe/at operator/nn asked/vbd pityingly/rb ./.\\n``/`` I/ppss wouldn't/md* be/be in/in his/pp$ shoes/nns for/in all/abn the/at rice/nn in/in China/np ./.\\nThere's/ex+bez some/dti kind/nn of/in a/at nemesis/nn haunting/vbg his/pp$ footsteps/nns ''/'' ./.\\n\\n\\n\\tHowever/wrb one/pn looks/vbz at/in it/ppo ,/, therefore/rb ,/, I'd/ppss+md say/vb that/cs your/pp$ horoscope/nn for/in this/dt autumn/nn is/bez the/at reverse/nn of/in rosy/jj ./.\\nThe/at inventory/nn you/ppss acquired/vbd from/in me/ppo isn't/bez* going/vbg to/to be/be easy/jj to/to move/vb ;/. ;/.\\nyou/ppss can't/md* very/ql well/rb sidle/vb up/in to/in people/nns on/in the/at street/nn and/cc ask/vb if/cs they/ppss want/vb to/to buy/vb a/at hot/jj Bodhisattva/np ./.\\nAdditionally/rb ,/, since/cs you're/ppss+ber going/vbg to/to be/be hors/fw-rb de/fw-in combat/fw-nn pretty/ql soon/rb with/in sprue/nn ,/, yaws/nns ,/, Delhi/np boil/nn ,/, the/at Granville/np wilt/nn ,/, liver/nn fluke/nn ,/, bilharziasis/nn ,/, and/cc a/at host/nn of/in other/ap complications/nns of/in the/at hex/nn you've/ppss+hv aroused/vbn ,/, you/ppss mustn't/md* expect/vb to/to be/be lionized/vbn socially/rb ./.\\nMy/pp$ advice/nn ,/, if/cs you/ppss live/vb long/jj enough/qlp to/to continue/vb your/pp$ vocation/nn ,/, is/bez that/cs the/at next/ap time/nn you're/ppss+ber attracted/vbn by/in the/at exotic/jj ,/, pass/vb it/ppo up/rp --/-- it's/pps+bez nothing/pn but/cc a/at headache/nn ./.\\nAs/cs you/ppss can/md count/vb on/in me/ppo to/to do/do the/at same/ap ./.\\n\\n\\n\\tCompassionately/rb yours/pp$$ ,/, \\n\\n\\tS./np J./np Perelman/np \\n\\n\\nrevulsion/nn-hl in/in-hl the/at-hl desert/nn-hl \\nthe/at doors/nns of/in the/at D/np-tl train/nn slid/vbd shut/vbn ,/, and/cc as/cs I/ppss dropped/vbd into/in a/at seat/nn and/cc ,/, exhaling/vbg ,/, looked/vbd up/rp across/in the/at aisle/nn ,/, the/at whole/jj aviary/nn in/in my/pp$ head/nn burst/vbd into/in song/nn ./.\\nShe/pps was/bedz a/at living/vbg doll/nn and/cc no/at mistake/nn --/-- the/at blue-black/jj bang/nn ,/, the/at wide/jj cheekbones/nns ,/, olive-flushed/jj ,/, that/wps betrayed/vbd the/at Cherokee/np strain/nn in/in her/pp$ Midwestern/jj-tl lineage/nn ,/, and/cc the/at mouth/nn whose/wp$ only/ap fault/nn ,/, in/in the/at novelist's/nn$ carping/vbg phrase/nn ,/, was/bedz that/cs the/at lower/jjr lip/nn was/bedz a/at trifle/nn too/ql voluptuous/jj ./.\\nFrom/in what/wdt I/ppss was/bedz able/jj to/in gauge/nn in/in a/at swift/jj ,/, greedy/jj glance/nn ,/, the/at figure/nn inside/in the/at coral-colored/jj boucle/nn dress/nn was/bedz stupefying/vbg ./.\\n\\n\""
      ]
     },
     "execution_count": 13,
     "metadata": {},
     "output_type": "execute_result"
    }
   ],
   "source": [
    "# Lista de caracteres \n",
    "brown.raw('cr09')"
   ]
  },
  {
   "cell_type": "code",
   "execution_count": 4,
   "metadata": {},
   "outputs": [],
   "source": [
    "import nltk\n",
    "import matplotlib"
   ]
  },
  {
   "cell_type": "code",
   "execution_count": 19,
   "metadata": {},
   "outputs": [
    {
     "data": {
      "text/plain": [
       "['Dear', 'Sirs', ':', 'Let', 'me', 'begin', 'by', ...]"
      ]
     },
     "execution_count": 19,
     "metadata": {},
     "output_type": "execute_result"
    }
   ],
   "source": [
    "brown.words('cr09')"
   ]
  },
  {
   "cell_type": "code",
   "execution_count": 20,
   "metadata": {},
   "outputs": [
    {
     "data": {
      "text/plain": [
       "19645"
      ]
     },
     "execution_count": 20,
     "metadata": {},
     "output_type": "execute_result"
    }
   ],
   "source": [
    "len(brown.raw('cr09'))"
   ]
  },
  {
   "cell_type": "code",
   "execution_count": 3,
   "metadata": {},
   "outputs": [
    {
     "data": {
      "text/plain": [
       "32"
      ]
     },
     "execution_count": 3,
     "metadata": {},
     "output_type": "execute_result"
    }
   ],
   "source": [
    "# Frecuencia de la palabra love\n",
    "txt_l = brown.words(categories=\"romance\")\n",
    "fdist_l = nltk.FreqDist(txt_l)\n",
    "fdist_l['love']\n"
   ]
  },
  {
   "cell_type": "code",
   "execution_count": 4,
   "metadata": {},
   "outputs": [
    {
     "data": {
      "text/plain": [
       "9"
      ]
     },
     "execution_count": 4,
     "metadata": {},
     "output_type": "execute_result"
    }
   ],
   "source": [
    "# Frecuencia de la palabra presidente\n",
    "fdist_l['president']"
   ]
  },
  {
   "cell_type": "code",
   "execution_count": 8,
   "metadata": {},
   "outputs": [
    {
     "data": {
      "text/plain": [
       "53"
      ]
     },
     "execution_count": 8,
     "metadata": {},
     "output_type": "execute_result"
    }
   ],
   "source": [
    "# Frecuencia de la palabra president en categoria de news\n",
    "txt_n = brown.words(categories=\"news\")\n",
    "# fdist_n = nltk.FreqDist([w.lower() for w in txt_n])\n",
    "fdist_n = nltk.FreqDist(txt_n)\n",
    "fdist_n[\"president\"]"
   ]
  },
  {
   "cell_type": "markdown",
   "metadata": {},
   "source": [
    "Procesamiento de lenguaje para la mineria de textos con palabras similares, queremos en la entrada dar texto y una palabra y a la salida una lista de todas las palabras con un valor de similitud con la palabra dada.\n",
    "\n",
    "Para eso vamos a utilizar el archivo e960401_mod.htm"
   ]
  },
  {
   "cell_type": "code",
   "execution_count": 25,
   "metadata": {},
   "outputs": [
    {
     "name": "stdout",
     "output_type": "stream",
     "text": [
      "\n",
      "The type of words is\n",
      "<class 'list'>\n",
      "The length of words 61505\n",
      "These are first words of the text ['<', '!', 'DOCTYPE', 'html', '>', '<', 'html', \"lang='es\", \"'\", '>', '<', 'head', '>', '<', 'meta', \"charset='UTF-8\", \"'\", '>', '<', 'title', '>', 'e960401_mod.htm', '<', '/title', '>', '<', '/head', '>', '<', 'body', '>', 'http', ':', '//www.excelsior.com.mx/9604/960401/art01.html', '<', 'title', '>', 'Excelsior', ':', 'Editorial', '<', '/title', '>', '<', 'basefont', 'size=', \"''\", '3', \"''\", '>', '<', 'img', 'src=', \"''\", '/gifs/ban_editorial.gif', \"''\", '>', '<', 'hr', '>', '<', 'h5', 'align=', \"''\", 'right', \"''\", '>', 'Martes', '02', 'de', 'Abril', 'de', '1996', '<', '/h5', '>', '<', 'h3', '>', 'Monstruosa', 'Diferencia', '<', '/h3', '>', '<', 'p', '>', '<', '/p', '>', '<', 'p', '>', '<', 'b', '>', 'Colosistas', 'y', 'Colosismo', '<', '/b', '>', '<', '/p', '>', '<', 'p', '>', '<', '/p', '>', '<', 'p', '>', '<', 'b', '>', 'LUIS', 'GUTIERREZ', 'Y', 'GONZALEZ', '<', '/b', '>', '<', '/p', '>', '<', 'p', '>', '<', '/p', '>', '<', 'p', '>', 'A', 'Luis', 'Gutiérrez', 'Sotomayor', 'y', 'a', 'Federico', 'Arreola', ',', 'colosistas', 'cabales', ',', 'según', 'me', 'dijo', 'su', 'amigo', 'Luis', 'Donaldo.', '<', '/p', '>', '<', 'p', '>', 'CIERTAMENTE', ',', 'el', 'nombre', 'y', 'las', 'circunstancias', 'de', 'Luis', 'Donaldo', 'Colosio', 'han', 'llenado', 'insistentemente', 'los', 'volúmenes', 'y', 'los', 'espacios', 'de', 'los', 'medios', 'de', 'comunicación', '.', 'Pero', 'su', 'renovada', 'actualidad', 'ha', 'padecido', 'un', 'frenético', 'vaivén', 'de', 'ficciones', 'judiciales', 'y', 'políticas']\n"
     ]
    }
   ],
   "source": [
    "f = open('C:\\\\Users\\\\hp\\\\Documents\\\\VSCode\\\\PNL-Escom\\\\Primer parcial\\\\EXCELSIOR_100_files\\\\e960401_mod.htm', encoding=\"UTF-8\")\n",
    "text = f.read()\n",
    "f.close()\n",
    "\n",
    "words = nltk.word_tokenize(text)\n",
    "\n",
    "print(\"\\nThe type of words is\")\n",
    "print(type(words))\n",
    "\n",
    "print(\"The length of words\", len(words))\n",
    "\n",
    "print(\"These are first words of the text\", words[:200])"
   ]
  },
  {
   "cell_type": "code",
   "execution_count": 5,
   "metadata": {},
   "outputs": [
    {
     "name": "stdout",
     "output_type": "stream",
     "text": [
      "the data type of text is: <class 'str'>\n",
      "The length of text is 273551\n",
      "These are first words of the text ['e960401_mod.htm', 'http', ':', '//www.excelsior.com.mx/9604/960401/art01.html', 'Excelsior', ':', 'Editorial', 'Martes', '02', 'de', 'Abril', 'de', '1996', 'Monstruosa', 'Diferencia', 'Colosistas', 'y', 'Colosismo', 'LUIS', 'GUTIERREZ']\n"
     ]
    }
   ],
   "source": [
    "from bs4 import BeautifulSoup\n",
    "\n",
    "f = open('D:\\\\rod_e\\\\Documents\\\\VSCode\\\\PNL-Escom\\\\Primer parcial\\\\EXCELSIOR_100_files\\\\e960401_mod.htm', encoding=\"UTF-8\")\n",
    "text = f.read()\n",
    "f.close()\n",
    "\n",
    "soup = BeautifulSoup(text, 'lxml')\n",
    "text = soup.get_text()\n",
    "\n",
    "print(\"the data type of text is:\", type(text))\n",
    "\n",
    "print(\"The length of text is\", len(text))\n",
    "\n",
    "# words.split()\n",
    "wors = nltk.word_tokenize(text)\n",
    "print(\"These are first words of the text\", wors[:20])"
   ]
  },
  {
   "cell_type": "markdown",
   "metadata": {},
   "source": [
    "Ejercicio cargar un archivo, limpiarlo de los elementos de html y guardarlo en un archivo de texto plano"
   ]
  },
  {
   "cell_type": "code",
   "execution_count": 7,
   "metadata": {},
   "outputs": [
    {
     "ename": "AttributeError",
     "evalue": "'list' object has no attribute 'split'",
     "output_type": "error",
     "traceback": [
      "\u001b[1;31m---------------------------------------------------------------------------\u001b[0m",
      "\u001b[1;31mAttributeError\u001b[0m                            Traceback (most recent call last)",
      "\u001b[1;32md:\\rod_e\\Documents\\VSCode\\PNL-Escom\\Primer parcial\\Ejercicios en clase\\clase25-08-22.ipynb Celda 18\u001b[0m in \u001b[0;36m<cell line: 12>\u001b[1;34m()\u001b[0m\n\u001b[0;32m     <a href='vscode-notebook-cell:/d%3A/rod_e/Documents/VSCode/PNL-Escom/Primer%20parcial/Ejercicios%20en%20clase/clase25-08-22.ipynb#X30sZmlsZQ%3D%3D?line=9'>10</a>\u001b[0m \u001b[39m# Tokenizacion de palabras\u001b[39;00m\n\u001b[0;32m     <a href='vscode-notebook-cell:/d%3A/rod_e/Documents/VSCode/PNL-Escom/Primer%20parcial/Ejercicios%20en%20clase/clase25-08-22.ipynb#X30sZmlsZQ%3D%3D?line=10'>11</a>\u001b[0m wordss \u001b[39m=\u001b[39m nltk\u001b[39m.\u001b[39mword_tokenize(text)\n\u001b[1;32m---> <a href='vscode-notebook-cell:/d%3A/rod_e/Documents/VSCode/PNL-Escom/Primer%20parcial/Ejercicios%20en%20clase/clase25-08-22.ipynb#X30sZmlsZQ%3D%3D?line=11'>12</a>\u001b[0m words \u001b[39m=\u001b[39m wordss\u001b[39m.\u001b[39;49msplit()\n\u001b[0;32m     <a href='vscode-notebook-cell:/d%3A/rod_e/Documents/VSCode/PNL-Escom/Primer%20parcial/Ejercicios%20en%20clase/clase25-08-22.ipynb#X30sZmlsZQ%3D%3D?line=12'>13</a>\u001b[0m \u001b[39m# Guardar archivo en un texto plano\u001b[39;00m\n\u001b[0;32m     <a href='vscode-notebook-cell:/d%3A/rod_e/Documents/VSCode/PNL-Escom/Primer%20parcial/Ejercicios%20en%20clase/clase25-08-22.ipynb#X30sZmlsZQ%3D%3D?line=13'>14</a>\u001b[0m \u001b[39mwith\u001b[39;00m \u001b[39mopen\u001b[39m(\u001b[39m\"\u001b[39m\u001b[39mSalida.txt\u001b[39m\u001b[39m\"\u001b[39m, encoding\u001b[39m=\u001b[39m\u001b[39m\"\u001b[39m\u001b[39mUTF-8\u001b[39m\u001b[39m\"\u001b[39m, mode\u001b[39m=\u001b[39m\u001b[39m\"\u001b[39m\u001b[39mw\u001b[39m\u001b[39m\"\u001b[39m) \u001b[39mas\u001b[39;00m f:\n",
      "\u001b[1;31mAttributeError\u001b[0m: 'list' object has no attribute 'split'"
     ]
    }
   ],
   "source": [
    "# Apertura del archivo\n",
    "f = open('D:\\\\rod_e\\\\Documents\\\\VSCode\\\\PNL-Escom\\\\Primer parcial\\\\EXCELSIOR_100_files\\\\e960401_mod.htm', encoding=\"UTF-8\")\n",
    "text = f.read()\n",
    "f.close()\n",
    "\n",
    "# Limpieza del texto\n",
    "soup = BeautifulSoup(text, 'lxml')\n",
    "text = soup.get_text()\n",
    "\n",
    "# Tokenizacion de palabras\n",
    "wordss = nltk.word_tokenize(text)\n",
    "words = wordss.split()\n",
    "\n",
    "# Guardar archivo en un texto plano\n",
    "with open(\"Salida.txt\", encoding=\"UTF-8\", mode=\"w\") as f:\n",
    "    for word in words:\n",
    "        f.write(word)\n"
   ]
  },
  {
   "cell_type": "markdown",
   "metadata": {},
   "source": [
    "Frecuencia condicionada con los días de la semana, distribucion de los días de la semana con la categoria romance y news de brown corpus"
   ]
  },
  {
   "cell_type": "code",
   "execution_count": 3,
   "metadata": {},
   "outputs": [
    {
     "name": "stdout",
     "output_type": "stream",
     "text": [
      "           Monday   Tuesday Wednesday  Thursday    Friday  Saturday    Sunday \n",
      "   news        54        43        22        20        41        33        51 \n",
      "romance         2         3         3         1         3         4         5 \n"
     ]
    }
   ],
   "source": [
    "cfd = nltk.ConditionalFreqDist(\n",
    "    (genre, word)\n",
    "    for genre in brown.categories()\n",
    "    for word in brown.words(categories=genre))\n",
    "genres = ['news', 'romance']\n",
    "modals = ['Monday', 'Tuesday', 'Wednesday', 'Thursday', 'Friday', 'Saturday', \"Sunday\"]\n",
    "cfd.tabulate(conditions=genres, samples=modals)"
   ]
  },
  {
   "cell_type": "code",
   "execution_count": 4,
   "metadata": {},
   "outputs": [
    {
     "data": {
      "image/png": "[encoded data removed]",
      "text/plain": [
       "<Figure size 432x288 with 1 Axes>"
      ]
     },
     "metadata": {
      "needs_background": "light"
     },
     "output_type": "display_data"
    },
    {
     "data": {
      "text/plain": [
       "<AxesSubplot:xlabel='Samples', ylabel='Counts'>"
      ]
     },
     "execution_count": 4,
     "metadata": {},
     "output_type": "execute_result"
    }
   ],
   "source": [
    "cfd.plot(conditions=genres, samples=modals)"
   ]
  }
 ],
 "metadata": {
  "kernelspec": {
   "display_name": "Python 3.10.5 64-bit",
   "language": "python",
   "name": "python3"
  },
  "language_info": {
   "codemirror_mode": {
    "name": "ipython",
    "version": 3
   },
   "file_extension": ".py",
   "mimetype": "text/x-python",
   "name": "python",
   "nbconvert_exporter": "python",
   "pygments_lexer": "ipython3",
   "version": "3.10.5"
  },
  "orig_nbformat": 4,
  "vscode": {
   "interpreter": {
    "hash": "63963b3f4c440940f0b94a3100916033a226cb4f45979123153792d60aa56d6a"
   }
  }
 },
 "nbformat": 4,
 "nbformat_minor": 2
}
