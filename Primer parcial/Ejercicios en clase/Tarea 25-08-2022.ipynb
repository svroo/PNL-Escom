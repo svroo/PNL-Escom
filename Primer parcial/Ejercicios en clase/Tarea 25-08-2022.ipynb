{
 "cells": [
  {
   "cell_type": "markdown",
   "metadata": {},
   "source": [
    "### Tarea \n",
    "\n",
    "Leer archivos html de la carpeta *EXCELSIOR_100_files* y realizar la limipeza del texto"
   ]
  },
  {
   "cell_type": "code",
   "execution_count": 1,
   "metadata": {},
   "outputs": [],
   "source": [
    "import os\n",
    "import nltk\n",
    "from bs4 import BeautifulSoup"
   ]
  },
  {
   "cell_type": "code",
   "execution_count": 8,
   "metadata": {},
   "outputs": [],
   "source": [
    "# Obtenemos nombre de archivos\n",
    "contenido = os.listdir(\"D:\\\\rod_e\\\\Documents\\\\VSCode\\\\PNL-Escom\\\\Primer parcial\\\\EXCELSIOR_100_files\")\n",
    "\n",
    "# Leemos los archivos\n",
    "for archivo in contenido:\n",
    "    name = archivo.split(\".\")\n",
    "    name.remove(\"htm\")\n",
    "    with open(file=f\"D:\\\\rod_e\\\\Documents\\\\VSCode\\\\PNL-Escom\\\\Primer parcial\\\\EXCELSIOR_100_files\\\\{archivo}\", encoding=\"UTF-8\") as file:\n",
    "        for i in file:\n",
    "            \n",
    "            text = file.read()\n",
    "            \n",
    "            soup = BeautifulSoup(text, 'lxml')\n",
    "            text = soup.get_text()\n",
    "            \n",
    "            wors = nltk.word_tokenize(text)\n",
    "            \n",
    "            with open(\"D:\\\\rod_e\\\\Documents\\\\VSCode\\\\PNL-Escom\\\\Primer parcial\\\\EXCELSIOR_100_Limpio\\\\{0}.txt\".format(name), encoding=\"UTF-8\", mode=\"w\") as f:\n",
    "                for word in wors:\n",
    "                    f.write(word + \" \")"
   ]
  }
 ],
 "metadata": {
  "kernelspec": {
   "display_name": "Python 3.10.4 64-bit",
   "language": "python",
   "name": "python3"
  },
  "language_info": {
   "codemirror_mode": {
    "name": "ipython",
    "version": 3
   },
   "file_extension": ".py",
   "mimetype": "text/x-python",
   "name": "python",
   "nbconvert_exporter": "python",
   "pygments_lexer": "ipython3",
   "version": "3.10.4"
  },
  "orig_nbformat": 4,
  "vscode": {
   "interpreter": {
    "hash": "87e37ab4b4be2a65128e65ee6dd2cd25882cc8ca9e7bb4e0cbfeff46ad1b513d"
   }
  }
 },
 "nbformat": 4,
 "nbformat_minor": 2
}
