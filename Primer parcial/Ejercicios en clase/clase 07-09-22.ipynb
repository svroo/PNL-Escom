{
 "cells": [
  {
   "cell_type": "markdown",
   "metadata": {},
   "source": [
    "## PNL\n",
    "Salazar Vega Rodrigo\n",
    "\n",
    "\n",
    "contexto_words = ('dar','estado') si la palabra se encuentra 8 veces, vamos a meter 24, la frecuencia va a reflejar la frecuencia de todas las palabras\n",
    "contexto_vector = (3, 2, 10, 6)\n",
    "\n",
    "\n",
    "Para quitar las palabras repetidas hacemos normalización de todo.\n",
    "\n",
    "Usamos numpy para hacer operaciones con vectores, se suman todos los números del vector de contexto $(sum(np.array(\\begin{bmatrix}3, & 2,&10,&6,\\end{bmatrix})))$ y dividimos el resultado por cada elemento del vector $vector\\_ prob = (\\frac{3}{21}, \\frac{2}{21}, \\frac{10}{21}, \\frac{6}{21})$ la suma va a dar, es una distribución de todo el texto y luego se realiza el calculo para ver si son similares o no.\n",
    "\n",
    "|   |context w1|context w2 | .... | ....|\n",
    "|---|----------|-----------|------|-----|\n",
    "|w1|            |           |       |   |\n",
    "|w2|            |           |       |   |\n",
    "|--|------------|-----------|-------|---|\n",
    "|wn|0|  |   |   |\n",
    "\n",
    "Se puede usar fredisq para representar. El vector de numero es la columna *context  w1*\n",
    "\n",
    "El coseno del angulo es el vector normalizado $cos_\\alpha = \\frac{\\overrightarrow{x}}{\\overrightarrow{|x|}} * \\frac{\\overrightarrow{y}}{\\overrightarrow{|y|}}$\n",
    "\n",
    "$len(\\frac{\\overrightarrow{x}}{\\overrightarrow{|x|}} = 1)$\n",
    "\n",
    "Versión dos hay que tokenizar por parrafos"
   ]
  },
  {
   "cell_type": "code",
   "execution_count": 18,
   "metadata": {},
   "outputs": [],
   "source": [
    "def similar_words(text,word,window=8, probability=True, tf_idf=False,dot_product=True,cosine=True):\n",
    "\n",
    "    \"\"\"\n",
    "    parameters\n",
    "    ----------\n",
    "    text: list of words\n",
    "    word: a word to wich similarity is measure of all other words in text\n",
    "    \"\"\"\n",
    "\n",
    "    vocabulary = sorted(list(set(text)))\n",
    "    contexts={}\n",
    "    for w in vocabulary:\n",
    "        context = []\n",
    "        for i in range(len(text)):\n",
    "            if text[i] == w:\n",
    "                for j in range(i -int(window/2), i):\n",
    "                    if j >= 0:\n",
    "                        context.append(text[j])\n",
    "                try:\n",
    "                    for j in range(i +1, i+(int(window/2))+1):\n",
    "                        context.append(text[j])\n",
    "                except IndexError:\n",
    "                    pass\n",
    "        contexts[w] = context\n",
    "\n",
    "    import numpy as np\n",
    "\n",
    "    if probability:\n",
    "        vectors = {}\n",
    "        # counter = 0\n",
    "        for v in vocabulary:\n",
    "            try:\n",
    "                context= contexts[v]\n",
    "            except KeyError:\n",
    "                pass\n",
    "            vector = []\n",
    "            for voc in vocabulary:\n",
    "                vector.append(context.count(voc))\n",
    "            vector = np.array(vector)\n",
    "            s = np.sum(vector)\n",
    "            vector = vector/s\n",
    "            vectors[v] = vector\n",
    "\n",
    "    if dot_product:\n",
    "        similarities = {}\n",
    "        v = vectors[word]\n",
    "        for w in vectors.keys():\n",
    "            similarities[w] = np.dot(vectors[w], v)\n",
    "        similarities = (sorted(similarities.items(), key=lambda item: item[1], reverse=True))\n",
    "        with open('similar_words_with_dot_product_of_prob_vectors_to_' + word + '.txt', 'w', encoding='UTF-8') as f:\n",
    "            for item in similarities:\n",
    "                f.write(str(item)+'\\n')\n",
    "\n",
    "    if cosine:\n",
    "        similarities = {}\n",
    "        v1 = vectors[word]\n",
    "        for w in vectors.keys():\n",
    "            v2 = vectors[w]\n",
    "            similarities[w] = np.dot(v1, v2) /(np.linalg.norm(v1)*np.linalg.norm(v2))\n",
    "        similarities = (sorted(similarities.items(), key= lambda item:item[1], reverse=True))\n",
    "        with open('similar_words_with_cosine_of_prob_vectors_to_'+ word + '.txt', 'w', encoding= 'utf-8') as f:\n",
    "            for item in similarities:\n",
    "                f.write(str(item) + '\\n')\n",
    "            "
   ]
  },
  {
   "cell_type": "code",
   "execution_count": 9,
   "metadata": {},
   "outputs": [
    {
     "name": "stdout",
     "output_type": "stream",
     "text": [
      "Fin de la normalización...\n",
      "<built-in method format of str object at 0x0000017F64797B40>\n",
      "<built-in method format of str object at 0x0000017F64797BB0>\n",
      "lemmatize runs well\n"
     ]
    }
   ],
   "source": [
    "from normalize import normalize\n",
    "\n",
    "m = 10\n",
    "\n",
    "text = normalize()"
   ]
  },
  {
   "cell_type": "code",
   "execution_count": 19,
   "metadata": {},
   "outputs": [],
   "source": [
    "window = 8\n",
    "word = 'gobierno'\n",
    "\n",
    "similar_words(text=text,word=word,window=window)"
   ]
  },
  {
   "cell_type": "markdown",
   "metadata": {},
   "source": [
    "Si hay tokenizador para palabras en español, en spicy si hay \n",
    "\n",
    "## Tarea:\n",
    "Tokenizar tomando en cuenta el salto de parrafo.\n",
    "Leer Chapter 5 in book, nltk for python"
   ]
  },
  {
   "cell_type": "code",
   "execution_count": null,
   "metadata": {},
   "outputs": [],
   "source": []
  }
 ],
 "metadata": {
  "kernelspec": {
   "display_name": "Python 3.10.5 64-bit",
   "language": "python",
   "name": "python3"
  },
  "language_info": {
   "codemirror_mode": {
    "name": "ipython",
    "version": 3
   },
   "file_extension": ".py",
   "mimetype": "text/x-python",
   "name": "python",
   "nbconvert_exporter": "python",
   "pygments_lexer": "ipython3",
   "version": "3.10.5"
  },
  "orig_nbformat": 4,
  "vscode": {
   "interpreter": {
    "hash": "63963b3f4c440940f0b94a3100916033a226cb4f45979123153792d60aa56d6a"
   }
  }
 },
 "nbformat": 4,
 "nbformat_minor": 2
}
