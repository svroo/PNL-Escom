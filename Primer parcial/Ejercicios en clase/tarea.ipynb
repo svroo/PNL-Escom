{
 "cells": [
  {
   "cell_type": "markdown",
   "metadata": {},
   "source": [
    "## Ejercico primera versión\n",
    "\n",
    "Salazar Vega Rodrigo"
   ]
  },
  {
   "cell_type": "code",
   "execution_count": 51,
   "metadata": {},
   "outputs": [],
   "source": [
    "import text_proc as tp \n",
    "import word_associa as wa"
   ]
  },
  {
   "cell_type": "code",
   "execution_count": 20,
   "metadata": {},
   "outputs": [],
   "source": [
    "# Clean de corpus\n",
    "tp.clean_corpus('./../EXCELSIOR_100_files/', './new_corpus/')"
   ]
  },
  {
   "cell_type": "code",
   "execution_count": 21,
   "metadata": {},
   "outputs": [],
   "source": [
    "# Get clean corpus, delete HTML TAGS\n",
    "text = tp.get_clean_text('./new_corpus/clean_corpus.txt')"
   ]
  },
  {
   "cell_type": "code",
   "execution_count": 22,
   "metadata": {},
   "outputs": [],
   "source": [
    "# Sentences segmentation\n",
    "# eliminacion de caracteres especiales\n",
    "sents = tp.sentence_tokenize(text) "
   ]
  },
  {
   "cell_type": "code",
   "execution_count": 23,
   "metadata": {},
   "outputs": [],
   "source": [
    "# Eliminacion de stop word\n",
    "sents = tp.delete_stop_words_sents(sents, './stopwords_es.txt')"
   ]
  },
  {
   "cell_type": "code",
   "execution_count": 24,
   "metadata": {},
   "outputs": [],
   "source": [
    "# Make tagger\n",
    "tp.make_and_save_spanish_tagger('./tag/spanish_tagger.pkl')"
   ]
  },
  {
   "cell_type": "code",
   "execution_count": 25,
   "metadata": {},
   "outputs": [],
   "source": [
    "# Tag sentences\n",
    "tagged_sentences = tp.tag(sents, path='./tag/spanish_tagger.pkl')"
   ]
  },
  {
   "cell_type": "code",
   "execution_count": 26,
   "metadata": {},
   "outputs": [],
   "source": [
    "new_tagged_sentences = list()\n",
    "for sent in tagged_sentences:\n",
    "    new_sent = list()\n",
    "    for element in sent:\n",
    "        word = element[0]\n",
    "        tag = element[1]\n",
    "        new_sent.append((word, tag[0].lower()))\n",
    "    new_tagged_sentences.append(new_sent)"
   ]
  },
  {
   "cell_type": "code",
   "execution_count": 27,
   "metadata": {},
   "outputs": [],
   "source": [
    "# Lemmatize\n",
    "lemmatize_tagged_sentences = tp.lemmatize_sents(new_tagged_sentences, './generate.txt')"
   ]
  },
  {
   "cell_type": "code",
   "execution_count": 28,
   "metadata": {},
   "outputs": [
    {
     "data": {
      "text/plain": [
       "6404"
      ]
     },
     "execution_count": 28,
     "metadata": {},
     "output_type": "execute_result"
    }
   ],
   "source": [
    "words = list()\n",
    "for sent in lemmatize_tagged_sentences:\n",
    "    for word in sent:\n",
    "        words.append(word)\n",
    "vocabulary = list(sorted(set(words)))\n",
    "len(vocabulary)"
   ]
  },
  {
   "cell_type": "code",
   "execution_count": 33,
   "metadata": {},
   "outputs": [],
   "source": [
    "contexts = wa.get_contexts_sents(vocabulary, lemmatize_tagged_sentences) "
   ]
  },
  {
   "cell_type": "code",
   "execution_count": 34,
   "metadata": {},
   "outputs": [],
   "source": [
    "vectors = wa.get_vectors(vocabulary, contexts, prob = True)"
   ]
  },
  {
   "cell_type": "code",
   "execution_count": 44,
   "metadata": {},
   "outputs": [
    {
     "name": "stdout",
     "output_type": "stream",
     "text": [
      "Se completo empresa oraciones\n"
     ]
    }
   ],
   "source": [
    "word = ('empresa', 'n')\n",
    "try:\n",
    "    # Sents\n",
    "    wa.similar_words(word, vectors, aux_path = 'by_tagging', \n",
    "                    dot_product = True, cosine = True)\n",
    "    print('Se completo', word[0], 'oraciones')\n",
    "except Exception as e:\n",
    "    print('Ocurrió el siguiente error:', e, 'en la palabra', word[0])"
   ]
  },
  {
   "cell_type": "code",
   "execution_count": null,
   "metadata": {},
   "outputs": [],
   "source": []
  },
  {
   "cell_type": "code",
   "execution_count": null,
   "metadata": {},
   "outputs": [],
   "source": [
    "\n"
   ]
  },
  {
   "cell_type": "code",
   "execution_count": 52,
   "metadata": {},
   "outputs": [
    {
     "name": "stdout",
     "output_type": "stream",
     "text": [
      "Se completo e oraciones\n"
     ]
    }
   ],
   "source": [
    "word = 'empresa'\n",
    "try:\n",
    "    # Sents\n",
    "    wa.similar_words_better(word, vectors, vocabulary, aux_path = ' by_tagging', \n",
    "                    dot_product = True, cosine = True)\n",
    "    print('Se completo', word[0], 'oraciones')\n",
    "except Exception as e:\n",
    "    print('Ocurrió el siguiente error:', e, 'en la palabra', word[0])"
   ]
  }
 ],
 "metadata": {
  "kernelspec": {
   "display_name": "Python 3.10.5 64-bit",
   "language": "python",
   "name": "python3"
  },
  "language_info": {
   "codemirror_mode": {
    "name": "ipython",
    "version": 3
   },
   "file_extension": ".py",
   "mimetype": "text/x-python",
   "name": "python",
   "nbconvert_exporter": "python",
   "pygments_lexer": "ipython3",
   "version": "3.10.5"
  },
  "orig_nbformat": 4,
  "vscode": {
   "interpreter": {
    "hash": "63963b3f4c440940f0b94a3100916033a226cb4f45979123153792d60aa56d6a"
   }
  }
 },
 "nbformat": 4,
 "nbformat_minor": 2
}
