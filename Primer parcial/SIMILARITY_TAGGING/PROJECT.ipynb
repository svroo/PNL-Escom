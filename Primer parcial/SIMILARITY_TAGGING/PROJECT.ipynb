{
 "cells": [
  {
   "cell_type": "markdown",
   "id": "f614f04d",
   "metadata": {},
   "source": [
    "# Similarity by Tagging\n",
    "**Suárez Pérez Juan Pablo**"
   ]
  },
  {
   "cell_type": "markdown",
   "id": "8f3ae1e1",
   "metadata": {},
   "source": [
    "## Text Processing "
   ]
  },
  {
   "cell_type": "code",
   "execution_count": 1,
   "id": "aaeb7df6",
   "metadata": {},
   "outputs": [],
   "source": [
    "# Import the libraries needed\n",
    "from nlp_functions import text_processing as tp\n",
    "from nlp_functions import word_association as wa"
   ]
  },
  {
   "cell_type": "code",
   "execution_count": 2,
   "id": "76c92ded",
   "metadata": {},
   "outputs": [],
   "source": [
    "# Clean the corpus\n",
    "tp.clean_corpus('./../EXCELSIOR_100_files/', './new_corpus/')"
   ]
  },
  {
   "cell_type": "code",
   "execution_count": 3,
   "id": "b3aaafc3",
   "metadata": {},
   "outputs": [],
   "source": [
    "# Get clean corpus\n",
    "    # Delete HTML Tags.\n",
    "    # Lower words.\n",
    "text = tp.get_clean_text('./new_corpus/clean_corpus.txt')"
   ]
  },
  {
   "cell_type": "code",
   "execution_count": 4,
   "id": "3a4bff3d",
   "metadata": {},
   "outputs": [],
   "source": [
    "# Sentences segmentation\n",
    "# Split Sentences\n",
    "# Delete Special Caracters\n",
    "sents = tp.sentence_tokenize(text)"
   ]
  },
  {
   "cell_type": "code",
   "execution_count": 5,
   "id": "b7d36bb9",
   "metadata": {},
   "outputs": [],
   "source": [
    "# Delete Stop Words\n",
    "sents = tp.delete_stop_words_sents(sents, './nlp_functions/stopwords_and_lemmas/stopwords_es.txt')"
   ]
  },
  {
   "cell_type": "code",
   "execution_count": 6,
   "id": "795515d8",
   "metadata": {},
   "outputs": [],
   "source": [
    "# Make tagger\n",
    "tp.make_and_save_spanish_tagger('./nlp_functions/stopwords_and_lemmas/spanish_tagger.pkl')"
   ]
  },
  {
   "cell_type": "code",
   "execution_count": 7,
   "id": "47d80bec",
   "metadata": {},
   "outputs": [],
   "source": [
    "# Tag sentences\n",
    "tagged_sentences = tp.tag(sents, path = './nlp_functions/stopwords_and_lemmas/spanish_tagger.pkl')"
   ]
  },
  {
   "cell_type": "code",
   "execution_count": 8,
   "id": "2d3e68eb",
   "metadata": {},
   "outputs": [],
   "source": [
    "new_tagged_sentences = list()\n",
    "for sent in tagged_sentences:\n",
    "    new_sent = list()\n",
    "    for element in sent:\n",
    "        word = element[0]\n",
    "        tag = element[1]\n",
    "        new_sent.append((word, tag[0].lower()))\n",
    "    new_tagged_sentences.append(new_sent)"
   ]
  },
  {
   "cell_type": "code",
   "execution_count": 9,
   "id": "f95889b8",
   "metadata": {},
   "outputs": [],
   "source": [
    "# Lemmatize\n",
    "lemmatize_tagged_sentences = tp.lemmatize_sents(new_tagged_sentences, './nlp_functions/stopwords_and_lemmas/generate.txt')"
   ]
  },
  {
   "cell_type": "code",
   "execution_count": 10,
   "id": "385506a3",
   "metadata": {},
   "outputs": [
    {
     "data": {
      "text/plain": [
       "6402"
      ]
     },
     "execution_count": 10,
     "metadata": {},
     "output_type": "execute_result"
    }
   ],
   "source": [
    "words = list()\n",
    "for sent in lemmatize_tagged_sentences:\n",
    "    for word in sent:\n",
    "        words.append(word)\n",
    "vocabulary = list(sorted(set(words)))\n",
    "len(vocabulary)"
   ]
  },
  {
   "cell_type": "code",
   "execution_count": 11,
   "id": "ba1ff882",
   "metadata": {},
   "outputs": [],
   "source": [
    "contexts = wa.get_contexts_sents(vocabulary, lemmatize_tagged_sentences)"
   ]
  },
  {
   "cell_type": "code",
   "execution_count": 12,
   "id": "08b8335e",
   "metadata": {},
   "outputs": [],
   "source": [
    "vectors = wa.get_vectors(vocabulary, contexts, prob = True)"
   ]
  },
  {
   "cell_type": "code",
   "execution_count": 13,
   "id": "8a0d994b",
   "metadata": {},
   "outputs": [
    {
     "name": "stdout",
     "output_type": "stream",
     "text": [
      "Se completo abandonar oraciones\n"
     ]
    }
   ],
   "source": [
    "word = ('abandonar', 'v')\n",
    "try:\n",
    "    # Sents\n",
    "    wa.similar_words(word, vectors, aux_path = 'by_tagging', \n",
    "                    dot_product = True, cosine = True)\n",
    "    print('Se completo', word[0], 'oraciones')\n",
    "except Exception as e:\n",
    "    print('Ocurrió el siguiente error:', e, 'en la palabra', word[0])"
   ]
  },
  {
   "cell_type": "code",
   "execution_count": 14,
   "id": "dbc44de0",
   "metadata": {},
   "outputs": [
    {
     "name": "stdout",
     "output_type": "stream",
     "text": [
      "Se completo empresa oraciones\n"
     ]
    }
   ],
   "source": [
    "word = 'empresa'\n",
    "try:\n",
    "    # Sents\n",
    "    wa.similar_words_better(word, vectors, vocabulary, aux_path = 'by_tagging', \n",
    "                    dot_product = True, cosine = True)\n",
    "    print('Se completo', word, 'oraciones')\n",
    "except Exception as e:\n",
    "    print('Ocurrió el siguiente error:', e, 'en la palabra', word)"
   ]
  }
 ],
 "metadata": {
  "kernelspec": {
   "display_name": "Python 3 (ipykernel)",
   "language": "python",
   "name": "python3"
  },
  "language_info": {
   "codemirror_mode": {
    "name": "ipython",
    "version": 3
   },
   "file_extension": ".py",
   "mimetype": "text/x-python",
   "name": "python",
   "nbconvert_exporter": "python",
   "pygments_lexer": "ipython3",
   "version": "3.9.12"
  }
 },
 "nbformat": 4,
 "nbformat_minor": 5
}
