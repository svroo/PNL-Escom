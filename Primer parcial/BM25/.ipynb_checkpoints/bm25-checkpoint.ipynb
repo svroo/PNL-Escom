{
 "cells": [
  {
   "cell_type": "markdown",
   "metadata": {},
   "source": [
    "## Implementacion\n",
    "\n",
    "Dada la formula\n",
    "\n",
    "$$BM25(W_i, d1) = \\frac{k+1c(w_i,d1)}{c(w_i,d1)+k(1-b+b*|d1/avd1)}$$\n",
    "\n",
    "Donde:\n",
    "\n",
    "$k=1.2 \\\\ b=0.8 \\\\ V = np.array(vector de frecuencia) \\\\ dl = len(contexto) \\\\ avdl = sumar~las~longitudes~de~contextos~y~dividir~en~numero~de~contextos$"
   ]
  },
  {
   "cell_type": "code",
   "execution_count": 1,
   "metadata": {},
   "outputs": [],
   "source": [
    "# Import the libraries needed\n",
    "from nlp_functions import text as t\n",
    "from nlp_functions import association as w"
   ]
  },
  {
   "cell_type": "code",
   "execution_count": 2,
   "metadata": {},
   "outputs": [],
   "source": [
    "# Clean the corpus\n",
    "t.clean_corpus('./../EXCELSIOR_100_files/', './new_corpus/')"
   ]
  },
  {
   "cell_type": "code",
   "execution_count": 3,
   "metadata": {},
   "outputs": [],
   "source": [
    "# Get clean corpus\n",
    "    # Delete HTML Tags.\n",
    "    # Lower words.\n",
    "text = t.get_clean_text('./new_corpus/clean_corpus.txt')"
   ]
  },
  {
   "cell_type": "code",
   "execution_count": 4,
   "metadata": {},
   "outputs": [],
   "source": [
    "# Sentences segmentation\n",
    "# Split Sentences\n",
    "# Delete Special Caracters\n",
    "sents = t.sentence_tokenize(text)"
   ]
  },
  {
   "cell_type": "code",
   "execution_count": 5,
   "metadata": {},
   "outputs": [],
   "source": [
    "# Delete Stop Words\n",
    "sents = t.delete_stop_words_sents(sents, './nlp_functions/stopwords_and_lemmas/stopwords_es.txt')"
   ]
  },
  {
   "cell_type": "code",
   "execution_count": 6,
   "metadata": {},
   "outputs": [],
   "source": [
    "tagged_sentences = t.tag(text, path=r\"C:\\Users\\hp\\Documents\\VSCode\\PNL-Escom\\Primer parcial\\Ejercicios en clase\\tag\\spanish_tagger.pkl\")"
   ]
  },
  {
   "cell_type": "code",
   "execution_count": 7,
   "metadata": {},
   "outputs": [],
   "source": [
    "new_tagged_sentences = list()\n",
    "for sent in tagged_sentences:\n",
    "    new_sent = list()\n",
    "    for element in sent:\n",
    "        word = element[0]\n",
    "        tag = element[1]\n",
    "        new_sent.append((word, tag[0].lower()))\n",
    "    new_tagged_sentences.append(new_sent)"
   ]
  },
  {
   "cell_type": "code",
   "execution_count": 8,
   "metadata": {},
   "outputs": [],
   "source": [
    "lemmatize_tagged_sentences = t.lemmatize_sents(new_tagged_sentences, './nlp_functions/stopwords_and_lemmas/generate.txt')\n"
   ]
  },
  {
   "cell_type": "code",
   "execution_count": 9,
   "metadata": {},
   "outputs": [
    {
     "data": {
      "text/plain": [
       "71"
      ]
     },
     "execution_count": 9,
     "metadata": {},
     "output_type": "execute_result"
    },
    {
     "data": {
      "text/plain": [
       "71"
      ]
     },
     "execution_count": 9,
     "metadata": {},
     "output_type": "execute_result"
    }
   ],
   "source": [
    "words = list()\n",
    "for sent in lemmatize_tagged_sentences:\n",
    "    for word in sent:\n",
    "        words.append(word)\n",
    "vocabulary = list(sorted(set(words)))\n",
    "len(vocabulary)"
   ]
  },
  {
   "cell_type": "code",
   "execution_count": 10,
   "metadata": {},
   "outputs": [],
   "source": [
    "contexts = w.get_contexts_sents(vocabulary, lemmatize_tagged_sentences)"
   ]
  },
  {
   "cell_type": "code",
   "execution_count": 12,
   "metadata": {},
   "outputs": [],
   "source": [
    "vectors = w.get_vectors(vocabulary, contexts)"
   ]
  },
  {
   "cell_type": "code",
   "execution_count": 13,
   "metadata": {},
   "outputs": [
    {
     "data": {
      "text/plain": [
       "71"
      ]
     },
     "execution_count": 13,
     "metadata": {},
     "output_type": "execute_result"
    },
    {
     "data": {
      "text/plain": [
       "71"
      ]
     },
     "execution_count": 13,
     "metadata": {},
     "output_type": "execute_result"
    }
   ],
   "source": [
    "idf = w.get_idf(vectors)\n",
    "len(idf)"
   ]
  },
  {
   "cell_type": "code",
   "execution_count": 14,
   "metadata": {},
   "outputs": [
    {
     "name": "stdout",
     "output_type": "stream",
     "text": [
      "Ocurrió el siguiente error: name 'wa' is not defined en la palabra empresa\n",
      "Ocurrió el siguiente error: name 'wa' is not defined en la palabra empresa\n"
     ]
    }
   ],
   "source": [
    "word = 'empresa'\n",
    "try: \n",
    "    w.similar_words_better(word, vectors, idf, vocabulary, aux_path = 'by_tagging', \n",
    "                    dot_product = False, cosine = False, tf_idf = True)\n",
    "    print('Se completo', word, 'oraciones')\n",
    "except Exception as e:\n",
    "    print('Ocurrió el siguiente error:', e, 'en la palabra', word)"
   ]
  }
 ],
 "metadata": {
  "kernelspec": {
   "display_name": "Python 3 (ipykernel)",
   "language": "python",
   "name": "python3"
  },
  "language_info": {
   "codemirror_mode": {
    "name": "ipython",
    "version": 3
   },
   "file_extension": ".py",
   "mimetype": "text/x-python",
   "name": "python",
   "nbconvert_exporter": "python",
   "pygments_lexer": "ipython3",
   "version": "3.9.12"
  },
  "vscode": {
   "interpreter": {
    "hash": "63963b3f4c440940f0b94a3100916033a226cb4f45979123153792d60aa56d6a"
   }
  }
 },
 "nbformat": 4,
 "nbformat_minor": 2
}
