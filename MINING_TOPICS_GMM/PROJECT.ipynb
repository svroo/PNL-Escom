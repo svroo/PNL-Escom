{
 "cells": [
  {
   "cell_type": "markdown",
   "id": "f614f04d",
   "metadata": {},
   "source": [
    "# Mining Topics"
   ]
  },
  {
   "cell_type": "markdown",
   "id": "8f3ae1e1",
   "metadata": {},
   "source": [
    "## Text Processing "
   ]
  },
  {
   "cell_type": "code",
   "execution_count": 1,
   "id": "aaeb7df6",
   "metadata": {},
   "outputs": [],
   "source": [
    "# Import the libraries needed\n",
    "from nlp_functions import text_processing as tp\n",
    "from nlp_functions import word_association as wa\n",
    "from nlp_functions import article_segmentation as arse\n",
    "from nlp_functions import mining_topics as mt\n",
    "import numpy as np"
   ]
  },
  {
   "cell_type": "markdown",
   "id": "9d74f45b",
   "metadata": {},
   "source": [
    "## Mining Articles and Titles"
   ]
  },
  {
   "cell_type": "code",
   "execution_count": 2,
   "id": "b0faad0d",
   "metadata": {},
   "outputs": [],
   "source": [
    "titles = arse.get_titles('./../EXCELSIOR_100_files/', './titles/', 0)\n",
    "articles = arse.get_articles('./../EXCELSIOR_100_files/', 0)"
   ]
  },
  {
   "cell_type": "markdown",
   "id": "6313617c",
   "metadata": {},
   "source": [
    "### Normalize articles"
   ]
  },
  {
   "cell_type": "code",
   "execution_count": 3,
   "id": "4b7ee4f3",
   "metadata": {},
   "outputs": [],
   "source": [
    "tokenize_articles = [tp.sentence_tokenize(article) for article in articles]"
   ]
  },
  {
   "cell_type": "code",
   "execution_count": 4,
   "id": "ff328e43",
   "metadata": {},
   "outputs": [],
   "source": [
    "clean_articles = [tp.delete_stop_words_sents(article, './nlp_functions/stopwords_and_lemmas/stopwords_es.txt') for article in tokenize_articles]"
   ]
  },
  {
   "cell_type": "code",
   "execution_count": 5,
   "id": "e61bc78a",
   "metadata": {},
   "outputs": [],
   "source": [
    "lemmatize_articles = list()\n",
    "for article in clean_articles:\n",
    "    lemmatize_articles.append(tp.lemmatize_sents(article, './nlp_functions/stopwords_and_lemmas/generate.txt'))"
   ]
  },
  {
   "cell_type": "markdown",
   "id": "dc935589",
   "metadata": {},
   "source": [
    "## Mining Topics"
   ]
  },
  {
   "cell_type": "markdown",
   "id": "6d722211",
   "metadata": {},
   "source": [
    "## Distribution of Topics in Documents"
   ]
  },
  {
   "cell_type": "code",
   "execution_count": 6,
   "id": "0fb6dea7",
   "metadata": {},
   "outputs": [
    {
     "name": "stdout",
     "output_type": "stream",
     "text": [
      "Iteration 0 :\n",
      "\tLog Maximum Likelihood: -2028.225242802328\n",
      "Iteration 1 :\n",
      "\tLog Maximum Likelihood: -1581.086917581526\n",
      "Iteration 2 :\n",
      "\tLog Maximum Likelihood: -1562.0612377887032\n",
      "Iteration 3 :\n",
      "\tLog Maximum Likelihood: -1559.9733431122038\n",
      "Iteration 4 :\n",
      "\tLog Maximum Likelihood: -1559.4204121037308\n",
      "Iteration 5 :\n",
      "\tLog Maximum Likelihood: -1559.252306241006\n",
      "Iteration 6 :\n",
      "\tLog Maximum Likelihood: -1559.186444088226\n",
      "Iteration 7 :\n",
      "\tLog Maximum Likelihood: -1559.1531260448373\n",
      "Iteration 8 :\n",
      "\tLog Maximum Likelihood: -1559.1330691694293\n",
      "Iteration 9 :\n",
      "\tLog Maximum Likelihood: -1559.1196783898877\n",
      "Iteration 10 :\n",
      "\tLog Maximum Likelihood: -1559.1102086097587\n",
      "Iteration 11 :\n",
      "\tLog Maximum Likelihood: -1559.1032840492987\n",
      "Iteration 12 :\n",
      "\tLog Maximum Likelihood: -1559.098100454588\n",
      "Iteration 13 :\n",
      "\tLog Maximum Likelihood: -1559.0941411763363\n",
      "Iteration 14 :\n",
      "\tLog Maximum Likelihood: -1559.0910591090274\n",
      "Iteration 15 :\n",
      "\tLog Maximum Likelihood: -1559.0886163830605\n",
      "Iteration 16 :\n",
      "\tLog Maximum Likelihood: -1559.086648027812\n",
      "Iteration 17 :\n",
      "\tLog Maximum Likelihood: -1559.0850382441\n",
      "Iteration 18 :\n",
      "\tLog Maximum Likelihood: -1559.0837045466512\n",
      "Iteration 19 :\n",
      "\tLog Maximum Likelihood: -1559.0825871589534\n",
      "Iteration 20 :\n",
      "\tLog Maximum Likelihood: -1559.0816419437765\n",
      "Iteration 21 :\n",
      "\tLog Maximum Likelihood: -1559.0808356901377\n",
      "Iteration 22 :\n",
      "\tLog Maximum Likelihood: -1559.0801429540677\n",
      "Iteration 23 :\n",
      "\tLog Maximum Likelihood: -1559.079543918135\n",
      "Iteration 24 :\n",
      "\tLog Maximum Likelihood: -1559.0790229196546\n",
      "Iteration 25 :\n",
      "\tLog Maximum Likelihood: -1559.0785674206031\n",
      "Iteration 26 :\n",
      "\tLog Maximum Likelihood: -1559.07816727294\n",
      "Iteration 27 :\n",
      "\tLog Maximum Likelihood: -1559.0778141844544\n",
      "Iteration 28 :\n",
      "\tLog Maximum Likelihood: -1559.0775013232453\n",
      "Iteration 29 :\n",
      "\tLog Maximum Likelihood: -1559.077223019742\n",
      "Iteration 30 :\n",
      "\tLog Maximum Likelihood: -1559.0769745389125\n",
      "Iteration 31 :\n",
      "\tLog Maximum Likelihood: -1559.07675190359\n",
      "Iteration 32 :\n",
      "\tLog Maximum Likelihood: -1559.0765517559084\n",
      "Iteration 33 :\n",
      "\tLog Maximum Likelihood: -1559.0763712474836\n",
      "Iteration 34 :\n",
      "\tLog Maximum Likelihood: -1559.0762079515782\n",
      "Iteration 35 :\n",
      "\tLog Maximum Likelihood: -1559.0760597922551\n",
      "Iteration 36 :\n",
      "\tLog Maximum Likelihood: -1559.0759249869402\n",
      "Iteration 37 :\n",
      "\tLog Maximum Likelihood: -1559.0758019994225\n",
      "Iteration 38 :\n",
      "\tLog Maximum Likelihood: -1559.0756895013033\n",
      "Iteration 39 :\n",
      "\tLog Maximum Likelihood: -1559.075586340132\n",
      "Iteration 40 :\n",
      "\tLog Maximum Likelihood: -1559.0754915130017\n",
      "Iteration 41 :\n",
      "\tLog Maximum Likelihood: -1559.0754041445168\n",
      "Iteration 42 :\n",
      "\tLog Maximum Likelihood: -1559.0753234684078\n",
      "Iteration 43 :\n",
      "\tLog Maximum Likelihood: -1559.0752488120495\n",
      "Iteration 44 :\n",
      "\tLog Maximum Likelihood: -1559.07517958345\n",
      "Iteration 45 :\n",
      "\tLog Maximum Likelihood: -1559.0751152602386\n",
      "Iteration 46 :\n",
      "\tLog Maximum Likelihood: -1559.0750553803182\n",
      "Iteration 47 :\n",
      "\tLog Maximum Likelihood: -1559.0749995339302\n",
      "Iteration 48 :\n",
      "\tLog Maximum Likelihood: -1559.0749473568583\n",
      "Iteration 49 :\n",
      "\tLog Maximum Likelihood: -1559.0748985246557\n"
     ]
    }
   ],
   "source": [
    "vocabulary = arse.get_vocabulary_from_articles(lemmatize_articles)\n",
    "probs_word_background = mt.get_probs_word_background(lemmatize_articles, vocabulary)\n",
    "probs_word_topic = mt.get_probs_word_topic(vocabulary)\n",
    "article_2 = lemmatize_articles[1]\n",
    "counts_article_2 = mt.get_counts_article(article_2, vocabulary)\n",
    "len_voc = len(vocabulary)\n",
    "probs_word_topic = mt.em(probs_word_topic, probs_word_background, counts_article_2, len_voc)"
   ]
  },
  {
   "cell_type": "code",
   "execution_count": 16,
   "id": "e17cf87f",
   "metadata": {},
   "outputs": [
    {
     "data": {
      "text/plain": [
       "[('poder', 0.028153564899451554),\n",
       " ('año', 0.022851919561243144),\n",
       " ('hacer', 0.02230347349177331),\n",
       " ('millón', 0.02120658135283364),\n",
       " ('decir', 0.01809872029250457),\n",
       " ('empresa', 0.01736745886654479),\n",
       " ('méxico', 0.015539305301645339),\n",
       " ('país', 0.015539305301645339),\n",
       " ('gobierno', 0.015173674588665448),\n",
       " ('abril', 0.014990859232175503)]"
      ]
     },
     "execution_count": 16,
     "metadata": {},
     "output_type": "execute_result"
    }
   ],
   "source": [
    "dist_background = mt.create_dict(vocabulary, probs_word_background)\n",
    "dist_background = mt.sort_dict(dist_background)\n",
    "dist_background[:10]"
   ]
  },
  {
   "cell_type": "code",
   "execution_count": 8,
   "id": "bd0bbf58",
   "metadata": {},
   "outputs": [],
   "source": [
    "dist_topic = mt.create_dict(vocabulary, probs_word_topic)\n",
    "dist_topic = mt.sort_dict(dist_topic)"
   ]
  },
  {
   "cell_type": "code",
   "execution_count": 9,
   "id": "fffc9e30",
   "metadata": {},
   "outputs": [
    {
     "data": {
      "text/plain": [
       "[('mussolini', 0.029176898398818058),\n",
       " ('italia', 0.024314081999015046),\n",
       " ('duce', 0.01945126559921204),\n",
       " ('italiano', 0.014588449199409029),\n",
       " ('scalfaro', 0.014588449199409029),\n",
       " ('alemán', 0.01422281532580865),\n",
       " ('romo', 0.0140399983245969),\n",
       " ('julio', 0.013308729847111437),\n",
       " ('extraordinario', 0.00972563279960602),\n",
       " ('hitler', 0.00972563279960602)]"
      ]
     },
     "execution_count": 9,
     "metadata": {},
     "output_type": "execute_result"
    }
   ],
   "source": [
    "dist_topic[:10]"
   ]
  },
  {
   "cell_type": "markdown",
   "id": "49edce4b",
   "metadata": {},
   "source": [
    "Implementación del mismo algoritmo usando la libreria Gensim"
   ]
  },
  {
   "cell_type": "code",
   "execution_count": 10,
   "id": "55fa6be4",
   "metadata": {},
   "outputs": [],
   "source": [
    "from nltk.corpus import stopwords \n",
    "from nltk.stem.wordnet import WordNetLemmatizer\n",
    "import string\n",
    "import gensim\n",
    "from gensim import corpora"
   ]
  },
  {
   "cell_type": "markdown",
   "id": "702d2b4c",
   "metadata": {},
   "source": [
    "## Obtensión de articulos"
   ]
  },
  {
   "cell_type": "code",
   "execution_count": 11,
   "id": "4add49f0",
   "metadata": {},
   "outputs": [],
   "source": [
    "titles = arse.get_titles('./../EXCELSIOR_100_files/', './titles/', 0)\n",
    "articles = arse.get_articles('./../EXCELSIOR_100_files/', 0)"
   ]
  },
  {
   "cell_type": "markdown",
   "id": "377438a0",
   "metadata": {},
   "source": [
    "Normalización"
   ]
  },
  {
   "cell_type": "code",
   "execution_count": 12,
   "id": "4c14f35b",
   "metadata": {},
   "outputs": [],
   "source": [
    "tokenize_articles = [tp.word_tokenize(article) for article in articles]\n",
    "clean_articles = [tp.delete_stop_words(article, './nlp_functions/stopwords_and_lemmas/stopwords_es.txt') for article in tokenize_articles]\n",
    "lemmatize_articles = [tp.lemmatize(article, './nlp_functions/stopwords_and_lemmas/generate.txt') for article in clean_articles]"
   ]
  },
  {
   "cell_type": "markdown",
   "id": "0c854cad",
   "metadata": {},
   "source": [
    "## Minning topics\n"
   ]
  },
  {
   "cell_type": "code",
   "execution_count": 15,
   "id": "e7cf07fa",
   "metadata": {},
   "outputs": [],
   "source": [
    "dictionary = corpora.Dictionary(lemmatize_articles)\n",
    "\n",
    "doc_term_matrix = [dictionary.doc2bow(doc) for doc in lemmatize_articles]\n",
    "\n",
    "Lda = gensim.models.ldamodel.LdaModel\n",
    "\n",
    "ldamodel = Lda(doc_term_matrix, num_topics=4, id2word = dictionary, passes=500)"
   ]
  },
  {
   "cell_type": "code",
   "execution_count": 17,
   "id": "8761d21d",
   "metadata": {},
   "outputs": [
    {
     "name": "stdout",
     "output_type": "stream",
     "text": [
      "[(0, '0.009*\"millón\" + 0.008*\"año\" + 0.007*\"empresa\" + 0.006*\"financiero\" + 0.005*\"poder\" + 0.005*\"méxico\" + 0.005*\"país\" + 0.005*\"dólar\" + 0.004*\"mil\" + 0.004*\"leche\"'), (1, '0.006*\"gobierno\" + 0.006*\"poder\" + 0.005*\"hacer\" + 0.005*\"peso\" + 0.004*\"decir\" + 0.004*\"internet\" + 0.004*\"empresa\" + 0.004*\"tierra\" + 0.004*\"trabajador\" + 0.004*\"hectárea\"'), (2, '0.007*\"poder\" + 0.004*\"decir\" + 0.004*\"hacer\" + 0.004*\"si\" + 0.004*\"justicia\" + 0.004*\"público\" + 0.003*\"país\" + 0.003*\"política\" + 0.003*\"año\" + 0.003*\"méxico\"'), (3, '0.007*\"internet\" + 0.007*\"edición\" + 0.006*\"excelsior\" + 0.006*\"hacer\" + 0.004*\"información\" + 0.003*\"red\" + 0.003*\"día\" + 0.003*\"medio\" + 0.003*\"dar\" + 0.003*\"siguiente\"')]\n"
     ]
    }
   ],
   "source": [
    "print(ldamodel.print_topics(num_topics=4, num_words=10))"
   ]
  }
 ],
 "metadata": {
  "kernelspec": {
   "display_name": "Python 3.9.12 ('base')",
   "language": "python",
   "name": "python3"
  },
  "language_info": {
   "codemirror_mode": {
    "name": "ipython",
    "version": 3
   },
   "file_extension": ".py",
   "mimetype": "text/x-python",
   "name": "python",
   "nbconvert_exporter": "python",
   "pygments_lexer": "ipython3",
   "version": "3.9.12"
  },
  "vscode": {
   "interpreter": {
    "hash": "b302cdd1e032ee910f5c889c3360c28564c92ad4f326fc3102e39fbe47faee66"
   }
  }
 },
 "nbformat": 4,
 "nbformat_minor": 5
}
