{
 "cells": [
  {
   "cell_type": "markdown",
   "id": "f614f04d",
   "metadata": {},
   "source": [
    "# Similarity by Tagging\n",
    "**Suárez Pérez Juan Pablo**"
   ]
  },
  {
   "cell_type": "markdown",
   "id": "8f3ae1e1",
   "metadata": {},
   "source": [
    "## Text Processing "
   ]
  },
  {
   "cell_type": "code",
   "execution_count": 1,
   "id": "aaeb7df6",
   "metadata": {},
   "outputs": [],
   "source": [
    "# Import the libraries needed\n",
    "from nlp_functions import text_processing as tp\n",
    "from nlp_functions import word_association as wa"
   ]
  },
  {
   "cell_type": "code",
   "execution_count": 2,
   "id": "b3aaafc3",
   "metadata": {},
   "outputs": [],
   "source": [
    "# Get clean corpus\n",
    "    # Delete HTML Tags.\n",
    "    # Lower words.\n",
    "text = tp.get_clean_text('./new_corpus/clean_corpus.txt')"
   ]
  },
  {
   "cell_type": "code",
   "execution_count": 3,
   "id": "3a4bff3d",
   "metadata": {},
   "outputs": [],
   "source": [
    "# Sentences segmentation\n",
    "# Split Sentences\n",
    "# Delete Special Caracters\n",
    "sents = tp.sentence_tokenize(text)"
   ]
  },
  {
   "cell_type": "code",
   "execution_count": 4,
   "id": "b7d36bb9",
   "metadata": {},
   "outputs": [],
   "source": [
    "# Delete Stop Words\n",
    "sents = tp.delete_stop_words_sents(sents, './nlp_functions/stopwords_and_lemmas/stopwords_es.txt')"
   ]
  },
  {
   "cell_type": "code",
   "execution_count": 5,
   "id": "f95889b8",
   "metadata": {},
   "outputs": [],
   "source": [
    "# Lemmatize\n",
    "lemmatize_sentences = tp.lemmatize_sents(sents, './nlp_functions/stopwords_and_lemmas/generate.txt')"
   ]
  },
  {
   "cell_type": "code",
   "execution_count": 6,
   "id": "da5329a1",
   "metadata": {},
   "outputs": [
    {
     "data": {
      "text/plain": [
       "5471"
      ]
     },
     "execution_count": 6,
     "metadata": {},
     "output_type": "execute_result"
    }
   ],
   "source": [
    "words = list()\n",
    "for sent in lemmatize_sentences:\n",
    "    for word in sent:\n",
    "        words.append(word)\n",
    "vocabulary = list(sorted(set(words)))\n",
    "len(vocabulary)"
   ]
  },
  {
   "cell_type": "code",
   "execution_count": 8,
   "id": "b5653381",
   "metadata": {},
   "outputs": [
    {
     "data": {
      "text/plain": [
       "['ciertamente',\n",
       " 'nombre',\n",
       " 'circunstancia',\n",
       " 'luis',\n",
       " 'donaldo',\n",
       " 'colosio',\n",
       " 'llenar',\n",
       " 'insistentemente',\n",
       " 'volumen',\n",
       " 'espacio',\n",
       " 'medio',\n",
       " 'comunicación']"
      ]
     },
     "execution_count": 8,
     "metadata": {},
     "output_type": "execute_result"
    }
   ],
   "source": [
    "lemmatize_sentences[1]"
   ]
  },
  {
   "cell_type": "code",
   "execution_count": 22,
   "id": "16208e3f",
   "metadata": {},
   "outputs": [],
   "source": [
    "word1 = [a for a in lemmatize_sentences if 'parapim' in a]"
   ]
  },
  {
   "cell_type": "code",
   "execution_count": 23,
   "id": "f26a3b12",
   "metadata": {},
   "outputs": [
    {
     "data": {
      "text/plain": [
       "0"
      ]
     },
     "execution_count": 23,
     "metadata": {},
     "output_type": "execute_result"
    }
   ],
   "source": [
    "len(word1)"
   ]
  },
  {
   "cell_type": "code",
   "execution_count": 19,
   "id": "fbf67c7b",
   "metadata": {},
   "outputs": [
    {
     "data": {
      "text/plain": [
       "0.9985401459854014"
      ]
     },
     "execution_count": 19,
     "metadata": {},
     "output_type": "execute_result"
    }
   ],
   "source": [
    "wa.probability_word(lemmatize_sentences, 'ciertamente', False)"
   ]
  },
  {
   "cell_type": "code",
   "execution_count": 21,
   "id": "26055e59",
   "metadata": {},
   "outputs": [
    {
     "data": {
      "text/plain": [
       "0.07882628059941767"
      ]
     },
     "execution_count": 21,
     "metadata": {},
     "output_type": "execute_result"
    }
   ],
   "source": [
    "wa.entropy(lemmatize_sentences, 'ciertamente', 'nombre')"
   ]
  },
  {
   "cell_type": "code",
   "execution_count": 26,
   "id": "66efea18",
   "metadata": {},
   "outputs": [],
   "source": [
    "wa.get_entropies(lemmatize_sentences, 'ciertamente', ['nombre', 'circunstancia'])"
   ]
  }
 ],
 "metadata": {
  "kernelspec": {
   "display_name": "Python 3.10.5 64-bit",
   "language": "python",
   "name": "python3"
  },
  "language_info": {
   "codemirror_mode": {
    "name": "ipython",
    "version": 3
   },
   "file_extension": ".py",
   "mimetype": "text/x-python",
   "name": "python",
   "nbconvert_exporter": "python",
   "pygments_lexer": "ipython3",
   "version": "3.10.5"
  },
  "vscode": {
   "interpreter": {
    "hash": "63963b3f4c440940f0b94a3100916033a226cb4f45979123153792d60aa56d6a"
   }
  }
 },
 "nbformat": 4,
 "nbformat_minor": 5
}
