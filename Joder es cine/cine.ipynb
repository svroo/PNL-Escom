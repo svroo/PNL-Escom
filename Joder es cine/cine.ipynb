{
 "cells": [
  {
   "cell_type": "code",
   "execution_count": 1,
   "id": "d9a64e0b",
   "metadata": {},
   "outputs": [],
   "source": [
    "# from sklearn.cluster import KMeans\n",
    "from sklearn.naive_bayes import MultinomialNB\n",
    "# from sklearn.naive_bayes import GaussianNB\n",
    "from sklearn.feature_extraction.text import CountVectorizer\n",
    "from sklearn.feature_extraction.text import TfidfTransformer\n",
    "import os\n",
    "from Modulo import text_proc as txt\n",
    "import numpy as np\n",
    "from sklearn.model_selection import train_test_split\n",
    "from sklearn.metrics import classification_report, confusion_matrix, ConfusionMatrixDisplay, accuracy_score\n",
    "import matplotlib.pyplot as plt\n",
    "from sklearn.cluster import k_means\n",
    "from sklearn.cluster import KMeans\n",
    "from sklearn.linear_model import LogisticRegression\n",
    "from sklearn.neighbors import KNeighborsClassifier\n",
    "\n",
    "\n",
    "# count_vect = contVectorizer()\n",
    "# x_counts = count_bect.fit_transform(np.array(x)) list of texts, each text is a string\n",
    "# y = np.asrray(y)\n",
    "\n",
    "# tdfif_transformer = tfidftransformer()\n",
    "# x_tfidf = tfidf_transformer.fit_transform(x_counts)\n",
    "\n",
    "# 2.xmlla etiqueta 1-5\n",
    "# 2.review.pos --> texto lemmatizado --> eliminar los tokens que son stopwords y signos de puntuación-->"
   ]
  },
  {
   "cell_type": "markdown",
   "id": "6a863725",
   "metadata": {},
   "source": [
    "Obtenemos los archivos con los que vamos a trabajar, en este caso los review.pos y los archivos .xml"
   ]
  },
  {
   "cell_type": "code",
   "execution_count": 2,
   "id": "f84bc837",
   "metadata": {},
   "outputs": [],
   "source": [
    "path = './corpusCriticasCine/'\n",
    "\n",
    "# Obtenemos una lista con todos los archivos en el corpus y los dividimos en x, y\n",
    "name_files = os.listdir(path)\n",
    "pos_file = list(filter(lambda x: x.endswith('.review.pos'), name_files))\n",
    "xml_file = list(filter(lambda x: x.endswith('.xml'), name_files))\n",
    "\n",
    "# Comparamos los archivos para obtener la misma longitud\n",
    "x, y = txt.obtener_y(path, pos_file, xml_file)       \n",
    "print('x_file:', len(x),'\\nY:', len(y))"
   ]
  },
  {
   "cell_type": "code",
   "execution_count": null,
   "id": "50ea642c",
   "metadata": {},
   "outputs": [],
   "source": [
    "text_clean =[txt.normalizar(x[i]) for i in range(len(x))]"
   ]
  },
  {
   "cell_type": "code",
   "execution_count": null,
   "id": "dcb2eeee",
   "metadata": {},
   "outputs": [],
   "source": [
    "count_vect = CountVectorizer()\n",
    "x_counts = count_vect.fit_transform(np.array(text_clean)) #list of texts, each text is a string\n",
    "y = np.asarray(y)"
   ]
  },
  {
   "cell_type": "code",
   "execution_count": null,
   "id": "7cb83e5e",
   "metadata": {},
   "outputs": [],
   "source": [
    "X_train, X_test, y_train, y_test = train_test_split(x_counts, y, test_size=0.2, shuffle = True, random_state=0)"
   ]
  },
  {
   "attachments": {},
   "cell_type": "markdown",
   "id": "9999a8af",
   "metadata": {},
   "source": [
    "### Multinomial unicamente usando el vector de CountVectorizer"
   ]
  },
  {
   "cell_type": "code",
   "execution_count": null,
   "id": "3c6e8605",
   "metadata": {},
   "outputs": [],
   "source": [
    "clf = MultinomialNB()\n",
    "clf.fit(X_train, y_train)\n",
    "y_predict = clf.predict(X_test)\n",
    "print(accuracy_score(y_test, y_predict))\n"
   ]
  },
  {
   "attachments": {},
   "cell_type": "markdown",
   "id": "d4978ed9",
   "metadata": {},
   "source": [
    "#### Matriz de confusion y f1 con datos de prueba"
   ]
  },
  {
   "cell_type": "code",
   "execution_count": null,
   "id": "ed2ebb83",
   "metadata": {},
   "outputs": [],
   "source": [
    "target_names = list(map(str, [1,2,3,4,5]))\n",
    "print(classification_report(y_test, y_predict, target_names=target_names))\n",
    "cm = confusion_matrix(y_test, y_predict, labels=[5,4,3,2,1])\n",
    "print(cm)\n",
    "disp = ConfusionMatrixDisplay(confusion_matrix=cm, display_labels=target_names)\n",
    "disp.plot()\n",
    "plt.show()"
   ]
  },
  {
   "attachments": {},
   "cell_type": "markdown",
   "id": "86d5eee2",
   "metadata": {},
   "source": [
    "### Matriz de confusión con datos de entrenamiento"
   ]
  },
  {
   "cell_type": "code",
   "execution_count": null,
   "id": "63c9a48c",
   "metadata": {},
   "outputs": [],
   "source": [
    "y_predict = clf.predict(X_train)\n",
    "print(accuracy_score(y_train, y_predict))\n"
   ]
  },
  {
   "cell_type": "code",
   "execution_count": null,
   "id": "faea9098",
   "metadata": {},
   "outputs": [],
   "source": [
    "target_names = list(map(str, [1,2,3,4,5]))\n",
    "print(classification_report(y_train, y_predict, target_names=target_names))\n",
    "cm = confusion_matrix(y_train, y_predict, labels=[5,4,3,2,1])\n",
    "print(cm)\n",
    "disp = ConfusionMatrixDisplay(confusion_matrix=cm, display_labels=target_names)\n",
    "disp.plot()\n",
    "plt.show()"
   ]
  },
  {
   "attachments": {},
   "cell_type": "markdown",
   "id": "82804019",
   "metadata": {},
   "source": [
    "# Lr con metodo Count Vectorizer\n"
   ]
  },
  {
   "cell_type": "code",
   "execution_count": null,
   "id": "d10189c9",
   "metadata": {},
   "outputs": [],
   "source": [
    "logisticRegr = LogisticRegression()\n",
    "logisticRegr.fit(X_train, y_train)\n",
    "y_predict = logisticRegr.predict(X_test)\n",
    "print(accuracy_score(y_test, y_predict))\n"
   ]
  },
  {
   "attachments": {},
   "cell_type": "markdown",
   "id": "0809924f",
   "metadata": {},
   "source": [
    "# Matriz de confusion con datos de Prueba"
   ]
  },
  {
   "cell_type": "code",
   "execution_count": null,
   "id": "d89b7407",
   "metadata": {},
   "outputs": [],
   "source": [
    "target_names = list(map(str, [1,2,3,4,5]))\n",
    "print(classification_report(y_test, y_predict, target_names=target_names))\n",
    "cm = confusion_matrix(y_test, y_predict, labels=[5,4,3,2,1])\n",
    "print(cm)\n",
    "disp = ConfusionMatrixDisplay(confusion_matrix=cm, display_labels=target_names)\n",
    "disp.plot()\n",
    "plt.show()"
   ]
  },
  {
   "cell_type": "markdown",
   "id": "dd797e01",
   "metadata": {},
   "source": [
    "# Matriz de confusion con datos de entrenamiento"
   ]
  },
  {
   "cell_type": "code",
   "execution_count": null,
   "id": "32a3ce5c",
   "metadata": {},
   "outputs": [],
   "source": [
    "# logisticRegr = LogisticRegression()\n",
    "# logisticRegr.fit(X_train, y_train)\n",
    "y_predict = logisticRegr.predict(X_train)\n",
    "print(accuracy_score(y_train, y_predict))"
   ]
  },
  {
   "cell_type": "code",
   "execution_count": null,
   "id": "6d05fd63",
   "metadata": {},
   "outputs": [],
   "source": [
    "target_names = list(map(str, [1,2,3,4,5]))\n",
    "print(classification_report(y_train, y_predict, target_names=target_names))\n",
    "cm = confusion_matrix(y_train, y_predict, labels=[5,4,3,2,1])\n",
    "print(cm)\n",
    "disp = ConfusionMatrixDisplay(confusion_matrix=cm, display_labels=target_names)\n",
    "disp.plot()\n",
    "plt.show()"
   ]
  },
  {
   "attachments": {},
   "cell_type": "markdown",
   "id": "e41355a4",
   "metadata": {},
   "source": [
    "# KNN con metodo Count Vectorizer"
   ]
  },
  {
   "cell_type": "code",
   "execution_count": null,
   "id": "3879a1ff",
   "metadata": {},
   "outputs": [],
   "source": [
    "model = KNeighborsClassifier(n_neighbors=5)\n",
    "\n",
    "# Train the model using the training sets\n",
    "model.fit(X_train, y_train)\n",
    "predicted= model.predict(X_test) # 0:Overcast, 2:Mild\n",
    "print(accuracy_score(y_train, y_predict))\n",
    "\n",
    "target_names = list(map(str, [1,2,3,4,5]))\n",
    "print(classification_report(y_train, y_predict, target_names=target_names))\n",
    "cm = confusion_matrix(y_train, y_predict, labels=[5,4,3,2,1])\n",
    "print(cm)\n",
    "disp = ConfusionMatrixDisplay(confusion_matrix=cm, display_labels=target_names)\n",
    "disp.plot()\n",
    "plt.show()"
   ]
  },
  {
   "attachments": {},
   "cell_type": "markdown",
   "id": "95b2e910",
   "metadata": {},
   "source": [
    "# Matriz de confusion con datos de prueba"
   ]
  },
  {
   "cell_type": "code",
   "execution_count": null,
   "id": "4e5f4fe4",
   "metadata": {},
   "outputs": [],
   "source": []
  },
  {
   "attachments": {},
   "cell_type": "markdown",
   "id": "8874a65d",
   "metadata": {},
   "source": [
    "# Matriz de confusion con datos de entrenamiento"
   ]
  },
  {
   "cell_type": "code",
   "execution_count": null,
   "id": "bd8d3e0d",
   "metadata": {},
   "outputs": [],
   "source": [
    "y_predict = model.predict(X_train)\n",
    "print(accuracy_score(y_train, y_predict))\n",
    "\n",
    "target_names = list(map(str, [1,2,3,4,5]))\n",
    "print(classification_report(y_train, y_predict, target_names=target_names))\n",
    "cm = confusion_matrix(y_train, y_predict, labels=[5,4,3,2,1])\n",
    "print(cm)\n",
    "disp = ConfusionMatrixDisplay(confusion_matrix=cm, display_labels=target_names)\n",
    "disp.plot()\n",
    "plt.show()"
   ]
  },
  {
   "attachments": {},
   "cell_type": "markdown",
   "id": "5b0e262d",
   "metadata": {},
   "source": [
    "# k-medias con Count Vectorizer"
   ]
  },
  {
   "attachments": {},
   "cell_type": "markdown",
   "id": "06004072",
   "metadata": {},
   "source": [
    "# Matriz de confusion con datos de prueba"
   ]
  },
  {
   "cell_type": "code",
   "execution_count": null,
   "id": "9c7a94ff",
   "metadata": {},
   "outputs": [],
   "source": [
    "km = KMeans(n_clusters= 5).fit(X_train)\n",
    "predicted= km.predict(X_test) # 0:Overcast, 2:Mild\n",
    "print(accuracy_score(y_train, y_predict))\n",
    "\n",
    "# target_names = list(map(str, [1,2,3,4,5]))\n",
    "print(classification_report(y_train, y_predict))\n",
    "cm = confusion_matrix(y_train, y_predict, labels=[5,4,3,2,1])\n",
    "print(cm)\n",
    "disp = ConfusionMatrixDisplay(confusion_matrix=cm, display_labels=target_names)\n",
    "disp.plot()\n",
    "plt.show()"
   ]
  },
  {
   "attachments": {},
   "cell_type": "markdown",
   "id": "b13e8d94",
   "metadata": {},
   "source": [
    "# Matriz de prueba con datos de entrenamiento"
   ]
  },
  {
   "cell_type": "code",
   "execution_count": null,
   "id": "d83c5f2a",
   "metadata": {},
   "outputs": [],
   "source": [
    "y_predict = km.predict(X_train)\n",
    "print(accuracy_score(y_train, y_predict))\n",
    "\n",
    "# target_names = list(map(str, [1,2,3,4,5]))\n",
    "print(classification_report(y_train, y_predict))\n",
    "cm = confusion_matrix(y_train, y_predict, labels=[5,4,3,2,1])\n",
    "print(cm)\n",
    "disp = ConfusionMatrixDisplay(confusion_matrix=cm, display_labels=target_names)\n",
    "disp.plot()\n",
    "plt.show()"
   ]
  },
  {
   "attachments": {},
   "cell_type": "markdown",
   "id": "c3869e3d",
   "metadata": {},
   "source": [
    "## Clasificados multinomial usando TfidfTRansform"
   ]
  },
  {
   "cell_type": "code",
   "execution_count": null,
   "id": "3891ed30",
   "metadata": {},
   "outputs": [],
   "source": [
    "tdfif_transformer = TfidfTransformer()\n",
    "x_tfidf = tdfif_transformer.fit_transform(x_counts)"
   ]
  },
  {
   "cell_type": "code",
   "execution_count": null,
   "id": "ac4c510a",
   "metadata": {},
   "outputs": [],
   "source": [
    "X_train, X_test, y_train, y_test = train_test_split(x_tfidf, y, test_size=0.2, shuffle = True, random_state=0)"
   ]
  },
  {
   "cell_type": "code",
   "execution_count": null,
   "id": "0dab67e2",
   "metadata": {},
   "outputs": [],
   "source": [
    "clf = MultinomialNB()\n",
    "clf.fit(X_train, y_train)\n",
    "    \n",
    "# y_predict = clf.predict(X_test)"
   ]
  },
  {
   "attachments": {},
   "cell_type": "markdown",
   "id": "3ecf0450",
   "metadata": {},
   "source": [
    "### Matriz de confusion con datos de prueba"
   ]
  },
  {
   "cell_type": "code",
   "execution_count": null,
   "id": "fba6f3d5",
   "metadata": {},
   "outputs": [],
   "source": [
    "y_predict = clf.predict(X_test)"
   ]
  },
  {
   "cell_type": "code",
   "execution_count": null,
   "id": "7150b5d9",
   "metadata": {},
   "outputs": [],
   "source": [
    "print(accuracy_score(y_test, y_predict))"
   ]
  },
  {
   "cell_type": "code",
   "execution_count": null,
   "id": "aef79c8e",
   "metadata": {},
   "outputs": [],
   "source": [
    "target_names = list(map(str, [1,2,3,4,5]))\n",
    "print(classification_report(y_test, y_predict, target_names=target_names))\n",
    "cm = confusion_matrix(y_test, y_predict, labels=[5,4,3,2,1])\n",
    "print(cm)\n",
    "disp = ConfusionMatrixDisplay(confusion_matrix=cm, display_labels=target_names)\n",
    "disp.plot()\n",
    "plt.show()"
   ]
  },
  {
   "attachments": {},
   "cell_type": "markdown",
   "id": "9c540844",
   "metadata": {},
   "source": [
    "### Matriz de confusión, usando datos de entrenamiento"
   ]
  },
  {
   "cell_type": "code",
   "execution_count": null,
   "id": "60d2eb6e",
   "metadata": {},
   "outputs": [],
   "source": [
    "y_predict = clf.predict(X_train)"
   ]
  },
  {
   "cell_type": "code",
   "execution_count": null,
   "id": "8388ee11",
   "metadata": {},
   "outputs": [],
   "source": [
    "print(accuracy_score(y_train, y_predict))"
   ]
  },
  {
   "cell_type": "code",
   "execution_count": null,
   "id": "8ac59180",
   "metadata": {},
   "outputs": [],
   "source": [
    "target_names = list(map(str, [1,2,3,4,5]))\n",
    "print(classification_report(y_train, y_predict, target_names=target_names))\n",
    "cm = confusion_matrix(y_train, y_predict, labels=[5,4,3,2,1])\n",
    "print(cm)\n",
    "disp = ConfusionMatrixDisplay(confusion_matrix=cm, display_labels=target_names)\n",
    "disp.plot()\n",
    "plt.show()"
   ]
  },
  {
   "attachments": {},
   "cell_type": "markdown",
   "id": "78cefffa",
   "metadata": {},
   "source": [
    "# Lr con tfidfTransformer"
   ]
  },
  {
   "cell_type": "code",
   "execution_count": null,
   "id": "22f51dce",
   "metadata": {},
   "outputs": [],
   "source": [
    "logisticRegr = LogisticRegression()\n",
    "logisticRegr.fit(X_train, y_train)\n",
    "y_predict = logisticRegr.predict(X_test)\n",
    "print(accuracy_score(y_test, y_predict))\n"
   ]
  },
  {
   "attachments": {},
   "cell_type": "markdown",
   "id": "c4136a58",
   "metadata": {},
   "source": [
    "# Matriz de confusion con datos de Prueba"
   ]
  },
  {
   "cell_type": "code",
   "execution_count": null,
   "id": "910bcf3c",
   "metadata": {},
   "outputs": [],
   "source": [
    "target_names = list(map(str, [1,2,3,4,5]))\n",
    "print(classification_report(y_test, y_predict, target_names=target_names))\n",
    "cm = confusion_matrix(y_test, y_predict, labels=[5,4,3,2,1])\n",
    "print(cm)\n",
    "disp = ConfusionMatrixDisplay(confusion_matrix=cm, display_labels=target_names)\n",
    "disp.plot()\n",
    "plt.show()"
   ]
  },
  {
   "cell_type": "markdown",
   "id": "472db05a",
   "metadata": {},
   "source": [
    "# Matriz de confusion con datos de Entrenamiento"
   ]
  },
  {
   "cell_type": "code",
   "execution_count": null,
   "id": "a6487030",
   "metadata": {},
   "outputs": [],
   "source": [
    "y_predict = logisticRegr.predict(X_train)\n",
    "print(accuracy_score(y_train, y_predict))\n",
    "target_names = list(map(str, [1,2,3,4,5]))\n",
    "print(classification_report(y_train, y_predict, target_names=target_names))\n",
    "cm = confusion_matrix(y_train, y_predict, labels=[5,4,3,2,1])\n",
    "print(cm)\n",
    "disp = ConfusionMatrixDisplay(confusion_matrix=cm, display_labels=target_names)\n",
    "disp.plot()\n",
    "plt.show()"
   ]
  },
  {
   "attachments": {},
   "cell_type": "markdown",
   "id": "a55e1a32",
   "metadata": {},
   "source": [
    "# KNN con TFidfTransformer"
   ]
  },
  {
   "cell_type": "code",
   "execution_count": null,
   "id": "80193611",
   "metadata": {},
   "outputs": [],
   "source": [
    "model = KNeighborsClassifier(n_neighbors=5)\n",
    "\n",
    "# Train the model using the training sets\n",
    "model.fit(X_train, y_train)\n",
    "predicted= model.predict(X_test) # 0:Overcast, 2:Mild\n",
    "print(accuracy_score(y_train, y_predict))\n",
    "\n",
    "target_names = list(map(str, [1,2,3,4,5]))\n",
    "print(classification_report(y_train, y_predict, target_names=target_names))\n",
    "cm = confusion_matrix(y_train, y_predict, labels=[5,4,3,2,1])\n",
    "print(cm)\n",
    "disp = ConfusionMatrixDisplay(confusion_matrix=cm, display_labels=target_names)\n",
    "disp.plot()\n",
    "plt.show()"
   ]
  },
  {
   "cell_type": "markdown",
   "id": "b40bd11e",
   "metadata": {},
   "source": [
    "# Matriz de confusion con datos de entrenamiento"
   ]
  },
  {
   "cell_type": "code",
   "execution_count": null,
   "id": "96e7c1e6",
   "metadata": {},
   "outputs": [],
   "source": [
    "y_predict = model.predict(X_train)\n",
    "print(accuracy_score(y_train, y_predict))\n",
    "\n",
    "target_names = list(map(str, [1,2,3,4,5]))\n",
    "print(classification_report(y_train, y_predict, target_names=target_names))\n",
    "cm = confusion_matrix(y_train, y_predict, labels=[5,4,3,2,1])\n",
    "print(cm)\n",
    "disp = ConfusionMatrixDisplay(confusion_matrix=cm, display_labels=target_names)\n",
    "disp.plot()\n",
    "plt.show()"
   ]
  },
  {
   "attachments": {},
   "cell_type": "markdown",
   "id": "dcab3147",
   "metadata": {},
   "source": [
    "# K-medias con TfidfTransform"
   ]
  },
  {
   "cell_type": "code",
   "execution_count": null,
   "id": "8c7e4a50",
   "metadata": {},
   "outputs": [],
   "source": [
    "km = KMeans(n_clusters= 5).fit(X_train)\n",
    "predicted= km.predict(X_test) # 0:Overcast, 2:Mild\n",
    "print(accuracy_score(y_train, y_predict))\n",
    "\n",
    "# target_names = list(map(str, [1,2,3,4,5]))\n",
    "print(classification_report(y_train, y_predict))\n",
    "cm = confusion_matrix(y_train, y_predict, labels=[5,4,3,2,1])\n",
    "print(cm)\n",
    "disp = ConfusionMatrixDisplay(confusion_matrix=cm, display_labels=target_names)\n",
    "disp.plot()\n",
    "plt.show()"
   ]
  },
  {
   "attachments": {},
   "cell_type": "markdown",
   "id": "a5e5f88c",
   "metadata": {},
   "source": [
    "# Matriz de confusion con datos de entrenamiento"
   ]
  },
  {
   "cell_type": "code",
   "execution_count": null,
   "id": "555bff8a",
   "metadata": {},
   "outputs": [],
   "source": [
    "y_predict = km.predict(X_train)\n",
    "print(accuracy_score(y_train, y_predict))\n",
    "\n",
    "# target_names = list(map(str, [1,2,3,4,5]))\n",
    "print(classification_report(y_train, y_predict))\n",
    "cm = confusion_matrix(y_train, y_predict, labels=[5,4,3,2,1])\n",
    "print(cm)\n",
    "disp = ConfusionMatrixDisplay(confusion_matrix=cm, display_labels=target_names)\n",
    "disp.plot()\n",
    "plt.show()"
   ]
  }
 ],
 "metadata": {
  "kernelspec": {
   "display_name": "base",
   "language": "python",
   "name": "python3"
  },
  "language_info": {
   "codemirror_mode": {
    "name": "ipython",
    "version": 3
   },
   "file_extension": ".py",
   "mimetype": "text/x-python",
   "name": "python",
   "nbconvert_exporter": "python",
   "pygments_lexer": "ipython3",
   "version": "3.9.12"
  },
  "vscode": {
   "interpreter": {
    "hash": "b302cdd1e032ee910f5c889c3360c28564c92ad4f326fc3102e39fbe47faee66"
   }
  }
 },
 "nbformat": 4,
 "nbformat_minor": 5
}
