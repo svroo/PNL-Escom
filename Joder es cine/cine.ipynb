{
 "cells": [
  {
   "cell_type": "code",
   "execution_count": 62,
   "id": "d9a64e0b",
   "metadata": {},
   "outputs": [],
   "source": [
    "from sklearn.cluster import KMeans\n",
    "from sklearn.naive_bayes import GaussianNB\n",
    "from sklearn.feature_extraction.text import CountVectorizer\n",
    "from sklearn.feature_extraction.text import TfidfTransformer\n",
    "import os\n",
    "from Modulo import text_proc as txt\n",
    "import numpy as np\n",
    "from sklearn.model_selection import train_test_split\n",
    "from sklearn.metrics import classification_report, confusion_matrix, ConfusionMatrixDisplay, accuracy_score\n",
    "import matplotlib.pyplot as plt\n",
    "\n",
    "# count_vect = contVectorizer()\n",
    "# x_counts = count_bect.fit_transform(np.array(x)) list of texts, each text is a string\n",
    "# y = np.asrray(y)\n",
    "\n",
    "# tdfif_transformer = tfidftransformer()\n",
    "# x_tfidf = tfidf_transformer.fit_transform(x_counts)\n",
    "\n",
    "# 2.xmlla etiqueta 1-5\n",
    "# 2.review.pos --> texto lemmatizado --> eliminar los tokens que son stopwords y signos de puntuación-->"
   ]
  },
  {
   "cell_type": "markdown",
   "id": "6a863725",
   "metadata": {},
   "source": [
    "Obtenemos los archivos con los que vamos a trabajar, en este caso los review.pos y los archivos .xml"
   ]
  },
  {
   "cell_type": "code",
   "execution_count": 23,
   "id": "f84bc837",
   "metadata": {},
   "outputs": [
    {
     "name": "stdout",
     "output_type": "stream",
     "text": [
      "pos_file: 3878 \n",
      "Xml_file: 3878\n"
     ]
    }
   ],
   "source": [
    "path = './corpusCriticasCine/'\n",
    "\n",
    "# Obtenemos una lista con todos los archivos en el corpus y los dividimos en x, y\n",
    "name_files = os.listdir(path)\n",
    "pos_file = list(filter(lambda x: x.endswith('.review.pos'), name_files))\n",
    "xml_file = list(filter(lambda x: x.endswith('.xml'), name_files))\n",
    "\n",
    "# Comparamos los archivos para obtener la misma longitud\n",
    "x, y = txt.obtener_y(path, pos_file, xml_file)       \n",
    "print('pos_file:', len(x),'\\nXml_file:', len(y))"
   ]
  },
  {
   "cell_type": "code",
   "execution_count": 24,
   "id": "68fc3eeb",
   "metadata": {},
   "outputs": [],
   "source": [
    "text = [txt.obtener_text(path, pos_file[i]) for i,j in enumerate(x)]"
   ]
  },
  {
   "cell_type": "code",
   "execution_count": 25,
   "id": "50ea642c",
   "metadata": {},
   "outputs": [],
   "source": [
    "text_clean =[txt.normalizar(text[i]) for i in range(len(text))]"
   ]
  },
  {
   "cell_type": "code",
   "execution_count": 26,
   "id": "dcb2eeee",
   "metadata": {},
   "outputs": [],
   "source": [
    "count_vect = CountVectorizer()\n",
    "x_counts = count_vect.fit_transform(np.array(text_clean)) #list of texts, each text is a string\n",
    "y = np.asarray(y)"
   ]
  },
  {
   "cell_type": "code",
   "execution_count": 28,
   "id": "3891ed30",
   "metadata": {},
   "outputs": [],
   "source": [
    "tdfif_transformer = TfidfTransformer()\n",
    "x_tfidf = tdfif_transformer.fit_transform(x_counts)"
   ]
  },
  {
   "cell_type": "code",
   "execution_count": 40,
   "id": "ac4c510a",
   "metadata": {},
   "outputs": [],
   "source": [
    "X_train, X_test, y_train, y_test = train_test_split(x_tfidf, y, test_size=0.2, shuffle = True, random_state=0)"
   ]
  },
  {
   "cell_type": "code",
   "execution_count": 57,
   "id": "0dab67e2",
   "metadata": {},
   "outputs": [
    {
     "name": "stderr",
     "output_type": "stream",
     "text": [
      "c:\\Users\\hp\\anaconda3\\lib\\site-packages\\sklearn\\utils\\validation.py:593: FutureWarning: np.matrix usage is deprecated in 1.0 and will raise a TypeError in 1.2. Please convert to a numpy array with np.asarray. For more information see: https://numpy.org/doc/stable/reference/generated/numpy.matrix.html\n",
      "  warnings.warn(\n"
     ]
    },
    {
     "data": {
      "text/plain": [
       "GaussianNB()"
      ]
     },
     "execution_count": 57,
     "metadata": {},
     "output_type": "execute_result"
    }
   ],
   "source": [
    "clf = GaussianNB()\n",
    "clf.fit(X_train.todense(), y_train)\n",
    "    \n",
    "# y_predict = clf.predict(X_test)"
   ]
  },
  {
   "cell_type": "code",
   "execution_count": 71,
   "id": "aef79c8e",
   "metadata": {},
   "outputs": [
    {
     "name": "stderr",
     "output_type": "stream",
     "text": [
      "c:\\Users\\hp\\anaconda3\\lib\\site-packages\\sklearn\\utils\\validation.py:593: FutureWarning: np.matrix usage is deprecated in 1.0 and will raise a TypeError in 1.2. Please convert to a numpy array with np.asarray. For more information see: https://numpy.org/doc/stable/reference/generated/numpy.matrix.html\n",
      "  warnings.warn(\n"
     ]
    },
    {
     "name": "stdout",
     "output_type": "stream",
     "text": [
      "0.35695876288659795\n"
     ]
    }
   ],
   "source": [
    "y_predict = clf.predict(X_test.todense())\n",
    "# x_p = np.asarray(X_test, dtype=object)\n",
    "# y_predict = clf.predict(np.asarray(x_p))\n",
    "print (accuracy_score(y_test, y_predict))"
   ]
  },
  {
   "cell_type": "code",
   "execution_count": 65,
   "id": "8ac59180",
   "metadata": {},
   "outputs": [
    {
     "name": "stdout",
     "output_type": "stream",
     "text": [
      "              precision    recall  f1-score   support\n",
      "\n",
      "           1       0.20      0.03      0.05        72\n",
      "           2       0.43      0.34      0.38       199\n",
      "           3       0.36      0.57      0.44       247\n",
      "           4       0.33      0.33      0.33       169\n",
      "           5       0.23      0.10      0.14        89\n",
      "\n",
      "    accuracy                           0.36       776\n",
      "   macro avg       0.31      0.28      0.27       776\n",
      "weighted avg       0.34      0.36      0.33       776\n",
      "\n",
      "[[  9  27  48   5   0]\n",
      " [ 10  56  79  22   2]\n",
      " [ 14  51 142  39   1]\n",
      " [  5  24  97  68   5]\n",
      " [  1  13  33  23   2]]\n"
     ]
    },
    {
     "data": {
      "image/png": "[encoded data removed]",
      "text/plain": [
       "<Figure size 640x480 with 2 Axes>"
      ]
     },
     "metadata": {},
     "output_type": "display_data"
    }
   ],
   "source": [
    "target_names = list(map(str, [1,2,3,4,5]))\n",
    "print(classification_report(y_test, y_predict, target_names=target_names))\n",
    "cm = confusion_matrix(y_test, y_predict, labels=[5,4,3,2,1])\n",
    "print(cm)\n",
    "disp = ConfusionMatrixDisplay(confusion_matrix=cm, display_labels=target_names)\n",
    "disp.plot()\n",
    "plt.show()"
   ]
  },
  {
   "cell_type": "code",
   "execution_count": 11,
   "id": "6541774f",
   "metadata": {},
   "outputs": [
    {
     "data": {
      "text/plain": [
       "KMeans()"
      ]
     },
     "execution_count": 11,
     "metadata": {},
     "output_type": "execute_result"
    }
   ],
   "source": [
    "k_text = KMeans()\n",
    "k_text.fit(x_tfidf, y)"
   ]
  },
  {
   "cell_type": "code",
   "execution_count": 12,
   "id": "cbfb56f8",
   "metadata": {},
   "outputs": [
    {
     "data": {
      "text/plain": [
       "array([2])"
      ]
     },
     "execution_count": 12,
     "metadata": {},
     "output_type": "execute_result"
    }
   ],
   "source": [
    "k_text.predict(x_tfidf[2])"
   ]
  }
 ],
 "metadata": {
  "kernelspec": {
   "display_name": "base",
   "language": "python",
   "name": "python3"
  },
  "language_info": {
   "codemirror_mode": {
    "name": "ipython",
    "version": 3
   },
   "file_extension": ".py",
   "mimetype": "text/x-python",
   "name": "python",
   "nbconvert_exporter": "python",
   "pygments_lexer": "ipython3",
   "version": "3.9.12 (main, Apr  4 2022, 05:22:27) [MSC v.1916 64 bit (AMD64)]"
  },
  "vscode": {
   "interpreter": {
    "hash": "b302cdd1e032ee910f5c889c3360c28564c92ad4f326fc3102e39fbe47faee66"
   }
  }
 },
 "nbformat": 4,
 "nbformat_minor": 5
}
